{
 "cells": [
  {
   "cell_type": "markdown",
   "metadata": {},
   "source": [
    "ipynb is a interactive python notebook.\n"
   ]
  },
  {
   "cell_type": "code",
   "execution_count": 1,
   "metadata": {},
   "outputs": [
    {
     "data": {
      "text/plain": [
       "9996"
      ]
     },
     "execution_count": 1,
     "metadata": {},
     "output_type": "execute_result"
    }
   ],
   "source": [
    "4563 + 5433"
   ]
  },
  {
   "cell_type": "code",
   "execution_count": 2,
   "metadata": {},
   "outputs": [
    {
     "data": {
      "text/plain": [
       "3330"
      ]
     },
     "execution_count": 2,
     "metadata": {},
     "output_type": "execute_result"
    }
   ],
   "source": [
    "4564 - 1234"
   ]
  },
  {
   "cell_type": "code",
   "execution_count": 3,
   "metadata": {},
   "outputs": [
    {
     "data": {
      "text/plain": [
       "115"
      ]
     },
     "execution_count": 3,
     "metadata": {},
     "output_type": "execute_result"
    }
   ],
   "source": [
    "23 * 5"
   ]
  },
  {
   "cell_type": "code",
   "execution_count": 4,
   "metadata": {},
   "outputs": [
    {
     "data": {
      "text/plain": [
       "3"
      ]
     },
     "execution_count": 4,
     "metadata": {},
     "output_type": "execute_result"
    }
   ],
   "source": [
    "10 // 3 #floor division"
   ]
  },
  {
   "cell_type": "code",
   "execution_count": 5,
   "metadata": {},
   "outputs": [
    {
     "data": {
      "text/plain": [
       "3.3333333333333335"
      ]
     },
     "execution_count": 5,
     "metadata": {},
     "output_type": "execute_result"
    }
   ],
   "source": [
    "10 / 3"
   ]
  },
  {
   "cell_type": "code",
   "execution_count": 6,
   "metadata": {},
   "outputs": [
    {
     "data": {
      "text/plain": [
       "100"
      ]
     },
     "execution_count": 6,
     "metadata": {},
     "output_type": "execute_result"
    }
   ],
   "source": [
    "10 **2"
   ]
  },
  {
   "cell_type": "code",
   "execution_count": 7,
   "metadata": {},
   "outputs": [],
   "source": [
    "name = \"Komal Gupta\"\n",
    "age = 21\n",
    "can_vote = True"
   ]
  },
  {
   "cell_type": "code",
   "execution_count": 8,
   "metadata": {},
   "outputs": [],
   "source": [
    "a = 5\n",
    "a += 25\n",
    "a -= 20\n"
   ]
  },
  {
   "cell_type": "markdown",
   "metadata": {},
   "source": [
    "Comparison Operators\n"
   ]
  },
  {
   "cell_type": "code",
   "execution_count": 16,
   "metadata": {},
   "outputs": [
    {
     "name": "stdout",
     "output_type": "stream",
     "text": [
      "False\n",
      "True\n",
      "False\n",
      "True\n"
     ]
    }
   ],
   "source": [
    "a , b = 3, 5\n",
    "\n",
    "print(a>b)\n",
    "\n",
    "print(a<b)\n",
    "print(a==b)\n",
    "print(a!=b)\n"
   ]
  },
  {
   "cell_type": "markdown",
   "metadata": {},
   "source": [
    "Logical operator ( and , or , not)"
   ]
  },
  {
   "cell_type": "code",
   "execution_count": 18,
   "metadata": {},
   "outputs": [
    {
     "name": "stdout",
     "output_type": "stream",
     "text": [
      "False\n",
      "True\n",
      "False\n",
      "False\n",
      "True\n"
     ]
    }
   ],
   "source": [
    "x = \"apple\"\n",
    "y = \"cherry\"\n",
    "\n",
    "print(x == \"apple\" and x == y)\n",
    "print(x == \"apple\" and x != y)\n",
    "print(x == \"cherry\" and x == y)\n",
    "print(x == \"cherry\" or  x == y)\n",
    "print(not x == \"cherry\")"
   ]
  },
  {
   "cell_type": "code",
   "execution_count": 21,
   "metadata": {},
   "outputs": [
    {
     "name": "stdout",
     "output_type": "stream",
     "text": [
      "True\n",
      "False\n"
     ]
    }
   ],
   "source": [
    "fruits = [\"apple\",\"banana\", \"mango\", \"orange\", \"grapes\"]\n",
    "print(\"mango\" in fruits)\n",
    "\n",
    "print(\"cherry\" in fruits)"
   ]
  },
  {
   "cell_type": "code",
   "execution_count": 26,
   "metadata": {},
   "outputs": [
    {
     "name": "stdout",
     "output_type": "stream",
     "text": [
      "principal amount: 12000\n",
      "rate of interest: 12\n",
      "time: 5\n",
      "simple interest: 7200.0\n",
      "total amount: 19200.0\n"
     ]
    }
   ],
   "source": [
    "p = int(input(\"Enter the principle amount:\"))\n",
    "r = int(input(\"Enter rate of interest:\"))\n",
    "t = int(input(\"Enter time:\"))\n",
    "si = p * r * t / 100\n",
    "print(\"principal amount:\",p)\n",
    "print(\"rate of interest:\",r)\n",
    "print(\"time:\",t)\n",
    "print(\"simple interest:\",si)\n",
    "print(\"total amount:\",si + p)\n"
   ]
  },
  {
   "cell_type": "code",
   "execution_count": 25,
   "metadata": {},
   "outputs": [
    {
     "name": "stdout",
     "output_type": "stream",
     "text": [
      "Your favourite city is lucknow\n"
     ]
    }
   ],
   "source": [
    "fav_city = input(\"Enter your favourite city:\")\n",
    "print(\"Your favourite city is\",fav_city)"
   ]
  },
  {
   "cell_type": "code",
   "execution_count": 3,
   "metadata": {},
   "outputs": [
    {
     "name": "stdout",
     "output_type": "stream",
     "text": [
      "komal\n",
      "lucknow\n",
      "komal\n",
      "lucknow\n",
      "komal,lucknow\n",
      "komal lives in lucknow\n",
      "komal lives in lucknow\n"
     ]
    }
   ],
   "source": [
    "                        #print function\n",
    "\n",
    "#different ways to print\n",
    "\n",
    "name = \"komal\"\n",
    "city = \"lucknow\"\n",
    "print(name)\n",
    "print(city)\n",
    "print(name, city, sep = \"\\n\")\n",
    "print(name, city, sep = \",\")\n",
    "print(f\"{name} lives in {city}\")    #formatted string\n",
    "print(name + ' lives in '+city)\n"
   ]
  },
  {
   "cell_type": "markdown",
   "metadata": {},
   "source": [
    "CONDITIONS\n",
    "if \n",
    "\n",
    "if else\n",
    "\n",
    "if elif else\n",
    "\n",
    "match case"
   ]
  },
  {
   "cell_type": "code",
   "execution_count": 6,
   "metadata": {},
   "outputs": [
    {
     "name": "stdout",
     "output_type": "stream",
     "text": [
      "you purchased items for more tha $200\n",
      "you get a 10% discount\n",
      "total 360.0\n"
     ]
    }
   ],
   "source": [
    "#if\n",
    "qnty = 2\n",
    "price = 200\n",
    "total = qnty * price\n",
    "if total > 200:\n",
    "    print(\"you purchased items for more tha $200\")\n",
    "    print(\"you get a 10% discount\")\n",
    "    total = total * 0.9 #90% of the total\n",
    "print(\"total\",total)"
   ]
  },
  {
   "cell_type": "code",
   "execution_count": 8,
   "metadata": {},
   "outputs": [
    {
     "name": "stdout",
     "output_type": "stream",
     "text": [
      "6 is even number\n"
     ]
    }
   ],
   "source": [
    "# if - else\n",
    "\n",
    "num = int(input(\"Enter a number:\"))\n",
    "if num % 2 == 0:\n",
    "    print(f\"{num} is even number\")\n",
    "else:\n",
    "    print(f\"{num} is odd number\")"
   ]
  },
  {
   "cell_type": "code",
   "execution_count": 11,
   "metadata": {},
   "outputs": [
    {
     "name": "stdout",
     "output_type": "stream",
     "text": [
      "percentage 33.33333333333333%\n",
      "Fail\n"
     ]
    }
   ],
   "source": [
    "#if-elif-else\n",
    "\n",
    "marks= int(input(\"Enter your total marks you got:\"))\n",
    "total = 600\n",
    "percent = marks / total * 100\n",
    "print(f\"percentage {percent}%\")\n",
    "if percent >= 90:\n",
    "    print(\"Grade A+🎉🤩\")\n",
    "elif percent >= 80:\n",
    "    print(\"Grade A\")\n",
    "elif percent >= 70:\n",
    "    print(\"Grade B\")\n",
    "elif percent >= 60:\n",
    "    print(\"Grade C\")\n",
    "elif percent >=50:\n",
    "    print(\"Grade D😣\")\n",
    "else:\n",
    "    print(\"Fail😭😭\")"
   ]
  },
  {
   "cell_type": "code",
   "execution_count": 12,
   "metadata": {},
   "outputs": [
    {
     "name": "stdout",
     "output_type": "stream",
     "text": [
      "Whta is the capital of uttrakhand?\n",
      "A. Dehradun\n",
      "B. Uttar pradesh\n",
      "C. Delhi\n",
      "D. Chandigarh\n",
      "Correct, aap jeet gye 7 Cr🎉🎉\n"
     ]
    }
   ],
   "source": [
    "#match case\n",
    "\n",
    "print(\"Whta is the capital of uttrakhand?\")\n",
    "print(\"A. Dehradun\")\n",
    "print(\"B. Uttar pradesh\")\n",
    "print(\"C. Delhi\")\n",
    "print(\"D. Chandigarh\")\n",
    "ans = input(\"Enter option number:\")\n",
    "match ans:\n",
    "    case \"A\":\n",
    "        print(\"Correct, aap jeet gye 7 Cr🎉🎉\")\n",
    "    case \"B\":\n",
    "        print(\"Wrong answer, UP ka nhi pucha tha\")\n",
    "    case \"C\":\n",
    "        print(\"Wrong answer, india m rha kro\")\n",
    "    case \"D\":\n",
    "        print(\"Wrong answer\")\n",
    "    case _:\n",
    "        print(\"Invalid Option\")"
   ]
  },
  {
   "cell_type": "code",
   "execution_count": null,
   "metadata": {},
   "outputs": [],
   "source": []
  }
 ],
 "metadata": {
  "kernelspec": {
   "display_name": "base",
   "language": "python",
   "name": "python3"
  },
  "language_info": {
   "codemirror_mode": {
    "name": "ipython",
    "version": 3
   },
   "file_extension": ".py",
   "mimetype": "text/x-python",
   "name": "python",
   "nbconvert_exporter": "python",
   "pygments_lexer": "ipython3",
   "version": "3.11.5"
  }
 },
 "nbformat": 4,
 "nbformat_minor": 2
}
