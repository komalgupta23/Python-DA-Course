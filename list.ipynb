{
 "cells": [
  {
   "cell_type": "markdown",
   "metadata": {},
   "source": [
    "# LIST\n",
    "    - ordered sequence of elements\n",
    "    - mutable (add,remove,change) after creation\n",
    "    - indexed(positive and negative)\n",
    "    - can be heterogenous aand homogeneous\n",
    "    - nesting can be done\n",
    "    - represented by square brackets[]\n",
    "    - list( constructor to create a list)"
   ]
  },
  {
   "cell_type": "code",
   "execution_count": 1,
   "metadata": {},
   "outputs": [],
   "source": [
    "names = [\"alice\",'bob', 'krish', 'charlie','komal']\n",
    "prime_num = [2, 3, 5, 7, 11, 13, 17, 19, 23, 29]\n",
    "mix_list = [1,'alice', 2, 'bob', 3, 'charlie', 4, 'komal']\n",
    "nest_list = [[1, 2, 3] , [4, 5, 6] , [7, 8, 9]]"
   ]
  },
  {
   "cell_type": "code",
   "execution_count": 3,
   "metadata": {},
   "outputs": [
    {
     "name": "stdout",
     "output_type": "stream",
     "text": [
      "5\n",
      "10\n",
      "8\n",
      "3\n"
     ]
    }
   ],
   "source": [
    "print(len(names))\n",
    "print(len(prime_num))\n",
    "print(len(mix_list))\n",
    "print(len(nest_list))"
   ]
  },
  {
   "cell_type": "code",
   "execution_count": 4,
   "metadata": {},
   "outputs": [
    {
     "name": "stdout",
     "output_type": "stream",
     "text": [
      "alice\n",
      "bob\n",
      "krish\n",
      "charlie\n",
      "komal\n"
     ]
    }
   ],
   "source": [
    "for i in names:\n",
    "    print(i)"
   ]
  },
  {
   "cell_type": "markdown",
   "metadata": {},
   "source": [
    "indexing"
   ]
  },
  {
   "cell_type": "code",
   "execution_count": 6,
   "metadata": {},
   "outputs": [
    {
     "name": "stdout",
     "output_type": "stream",
     "text": [
      "first element 11\n",
      "third element 7\n",
      "last element 29\n"
     ]
    }
   ],
   "source": [
    "print('first element',prime_num[4])\n",
    "print('third element',prime_num[3])\n",
    "print('last element',prime_num[-1])"
   ]
  },
  {
   "cell_type": "markdown",
   "metadata": {},
   "source": [
    "updating an index"
   ]
  },
  {
   "cell_type": "code",
   "execution_count": 8,
   "metadata": {},
   "outputs": [
    {
     "name": "stdout",
     "output_type": "stream",
     "text": [
      "['john', 'bob', 'krish', 'charlie', 'komal']\n"
     ]
    }
   ],
   "source": [
    "names[0] = 'john'\n",
    "print(names)"
   ]
  },
  {
   "cell_type": "code",
   "execution_count": 16,
   "metadata": {},
   "outputs": [
    {
     "name": "stdout",
     "output_type": "stream",
     "text": [
      "[2, 3, 5, 7, 11]\n",
      "[5, 7, 11, 13, 17, 19, 23, 29]\n",
      "[2, 3, 5, 7, 11, 13, 17, 19, 23]\n",
      "[2, 7, 17]\n",
      "[7, 13, 19]\n"
     ]
    }
   ],
   "source": [
    "print(prime_num[:5])\n",
    "print(prime_num[2:])\n",
    "print(prime_num[:-1])\n",
    "print(prime_num[0:-1:3])\n",
    "print(prime_num[-7:-1:2])"
   ]
  }
 ],
 "metadata": {
  "kernelspec": {
   "display_name": "base",
   "language": "python",
   "name": "python3"
  },
  "language_info": {
   "codemirror_mode": {
    "name": "ipython",
    "version": 3
   },
   "file_extension": ".py",
   "mimetype": "text/x-python",
   "name": "python",
   "nbconvert_exporter": "python",
   "pygments_lexer": "ipython3",
   "version": "3.11.5"
  }
 },
 "nbformat": 4,
 "nbformat_minor": 2
}
