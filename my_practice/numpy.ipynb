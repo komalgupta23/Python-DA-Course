{
 "cells": [
  {
   "cell_type": "code",
   "execution_count": 2,
   "metadata": {},
   "outputs": [],
   "source": [
    "import numpy as np"
   ]
  },
  {
   "cell_type": "code",
   "execution_count": 3,
   "metadata": {},
   "outputs": [
    {
     "name": "stdout",
     "output_type": "stream",
     "text": [
      "[20 30 40]\n",
      "[40 60 80]\n",
      "[ 60  90 120]\n",
      "[ 60  90 120]\n"
     ]
    }
   ],
   "source": [
    "a = np.array([20,30,40])\n",
    "b = np.array([40,60,80])\n",
    "c= np.array([3])\n",
    "print(a)\n",
    "print(b)\n",
    "print(a + b)\n",
    "print(a*c)"
   ]
  },
  {
   "cell_type": "code",
   "execution_count": 4,
   "metadata": {},
   "outputs": [
    {
     "name": "stdout",
     "output_type": "stream",
     "text": [
      "[20 30 40]\n"
     ]
    }
   ],
   "source": [
    "# slicing of array\n",
    "\n",
    "arr = np.array([10, 20, 30, 40, 50])\n",
    "print(arr[1:4])"
   ]
  },
  {
   "cell_type": "code",
   "execution_count": 5,
   "metadata": {},
   "outputs": [
    {
     "name": "stdout",
     "output_type": "stream",
     "text": [
      "[[10 20 30]\n",
      " [50 60 70]]\n",
      "[10 20 30]\n",
      "[50 60]\n",
      "70\n"
     ]
    }
   ],
   "source": [
    "# slicing of nested array\n",
    "arr = np.array([[10, 20, 30, 40],[50, 60, 70, 80]])\n",
    "print(arr[0:2, 0:3])    # elements of both array\n",
    "print(arr[0, 0:3])      # multiple element of 1st child array\n",
    "print(arr[1, 0:2])     # multiple element of 2nd child array\n",
    "print(arr[1,2])     # single elemnt of nested array"
   ]
  },
  {
   "cell_type": "code",
   "execution_count": 6,
   "metadata": {},
   "outputs": [
    {
     "name": "stdout",
     "output_type": "stream",
     "text": [
      "(2, 4)\n",
      "8\n",
      "2\n",
      "int64\n",
      "<class 'numpy.ndarray'>\n",
      "[[10 20 30 40]\n",
      " [50 60 70 80]]\n"
     ]
    }
   ],
   "source": [
    "# attributes of array\n",
    "\n",
    "# shape of aray\n",
    "arr = np.array([[10, 20, 30, 40],[50, 60, 70, 80]])\n",
    "print(np.shape(arr))    # (rows, columns)\n",
    "print(np.size(arr))     # no. of elements in array\n",
    "print(np.ndim(arr))     # no. of dimentions of array\n",
    "print(arr.dtype)        \n",
    "print(type(arr))\n",
    "print(arr.astype(int))\n"
   ]
  },
  {
   "cell_type": "markdown",
   "metadata": {},
   "source": [
    "attributes of array or inspecting an array\n",
    "- a.shape - Array dimensions (row, columns)\n",
    "- len(a) - Length of  nested arrays\n",
    "- b.ndim - Number of array dimensions\n",
    "- e.size - Number of array elements\n",
    "- b.dtype - Data type of array elements\n",
    "- b.astype(int) - Convert on array to a different type"
   ]
  },
  {
   "cell_type": "code",
   "execution_count": 7,
   "metadata": {},
   "outputs": [
    {
     "name": "stdout",
     "output_type": "stream",
     "text": [
      "ADD\n",
      "[[ 60  90 120]\n",
      " [ 40  40  55]]\n",
      "[[ 60  90 120]\n",
      " [ 40  40  55]]\n",
      "SUBTRACT\n",
      "[[20 30 40]\n",
      " [ 0 20 25]]\n",
      "[[-20 -30 -40]\n",
      " [  0 -20 -25]]\n"
     ]
    }
   ],
   "source": [
    "# adding or subtaracting an array\n",
    "\n",
    "a = np.array([[20, 30, 40], [20, 10, 15]])\n",
    "b = np.array([[40, 60, 80],[20, 30, 40]])\n",
    "print(\"ADD\")\n",
    "print(a + b)\n",
    "print(np.add(a, b))\n",
    "\n",
    "print(\"SUBTRACT\")\n",
    "print(b - a)\n",
    "print(np.subtract(a,b))\n"
   ]
  },
  {
   "cell_type": "code",
   "execution_count": 8,
   "metadata": {},
   "outputs": [
    {
     "name": "stdout",
     "output_type": "stream",
     "text": [
      "MULTIPLY\n",
      "[[ 800 1800 3200]\n",
      " [ 400  300  600]]\n",
      "[[ 800 1800 3200]\n",
      " [ 400  300  600]]\n",
      "DIVIDE\n",
      "[[2.         2.         2.        ]\n",
      " [1.         3.         2.66666667]]\n",
      "[[0.5        0.5        0.5       ]\n",
      " [1.         0.33333333 0.375     ]]\n"
     ]
    }
   ],
   "source": [
    "# multiply or divide of array\n",
    "\n",
    "a = np.array([[20, 30, 40], [20, 10, 15]])\n",
    "b = np.array([[40, 60, 80],[20, 30, 40]])\n",
    "print(\"MULTIPLY\")\n",
    "print(a * b)\n",
    "print(np.multiply(a, b))\n",
    "\n",
    "print(\"DIVIDE\")\n",
    "print(b / a)\n",
    "print(np.divide(a,b))\n"
   ]
  },
  {
   "cell_type": "code",
   "execution_count": 9,
   "metadata": {},
   "outputs": [
    {
     "name": "stdout",
     "output_type": "stream",
     "text": [
      "POWER\n",
      "[ 4  9 16 25]\n",
      "SQRT\n",
      "[2 3 4 5]\n"
     ]
    }
   ],
   "source": [
    "# POWER AND SQUARE ROOT\n",
    "\n",
    "arr1 = np.array([2, 3, 4, 5])\n",
    "arr2 = np.array([2])\n",
    "print(\"POWER\")\n",
    "print(np.power(arr1, arr2))\n",
    "\n",
    "arr3 = np.array([4,  9, 16, 25])\n",
    "print(\"SQRT\")\n",
    "c = np.sqrt(arr3)\n",
    "print(c.astype(int))\n"
   ]
  },
  {
   "cell_type": "markdown",
   "metadata": {},
   "source": [
    "combining and spliting array"
   ]
  },
  {
   "cell_type": "code",
   "execution_count": 10,
   "metadata": {},
   "outputs": [
    {
     "name": "stdout",
     "output_type": "stream",
     "text": [
      "[[20 30 40]\n",
      " [20 10 15]\n",
      " [40 60 80]\n",
      " [20 30 40]]\n"
     ]
    }
   ],
   "source": [
    "a = np.array([[20, 30, 40], [20, 10, 15]])\n",
    "b = np.array([[40, 60, 80],[20, 30, 40]])\n",
    "print(np.concatenate([a, b]))"
   ]
  },
  {
   "cell_type": "code",
   "execution_count": 11,
   "metadata": {},
   "outputs": [
    {
     "name": "stdout",
     "output_type": "stream",
     "text": [
      "[[20 30 40 40 60 80]\n",
      " [20 10 15 20 30 40]]\n"
     ]
    }
   ],
   "source": [
    "print(np.concatenate([a, b], axis = 1))"
   ]
  },
  {
   "cell_type": "code",
   "execution_count": 12,
   "metadata": {},
   "outputs": [
    {
     "name": "stdout",
     "output_type": "stream",
     "text": [
      "[[20 30 40 40 60 80]\n",
      " [20 10 15 20 30 40]]\n"
     ]
    }
   ],
   "source": [
    "print(np.hstack([a, b]))    # horizontal concat"
   ]
  },
  {
   "cell_type": "code",
   "execution_count": 13,
   "metadata": {},
   "outputs": [
    {
     "name": "stdout",
     "output_type": "stream",
     "text": [
      "[[20 30 40]\n",
      " [20 10 15]\n",
      " [40 60 80]\n",
      " [20 30 40]]\n"
     ]
    }
   ],
   "source": [
    "print(np.vstack([a, b]))    # vertical concat"
   ]
  },
  {
   "cell_type": "code",
   "execution_count": 14,
   "metadata": {},
   "outputs": [
    {
     "name": "stdout",
     "output_type": "stream",
     "text": [
      "[array([20, 30]), array([40, 10]), array([20, 40])]\n"
     ]
    }
   ],
   "source": [
    "a = np.array ([20, 30, 40, 10, 20, 40])\n",
    "b = np.array_split(a,3)\n",
    "print(b)"
   ]
  },
  {
   "cell_type": "code",
   "execution_count": 15,
   "metadata": {},
   "outputs": [
    {
     "name": "stdout",
     "output_type": "stream",
     "text": [
      "[array([[20, 30, 40]]), array([[10, 20, 40]])]\n"
     ]
    }
   ],
   "source": [
    "a = np.array ([[20, 30, 40],[10, 20, 40]])\n",
    "b = np.array_split(a,2)\n",
    "print(b)"
   ]
  },
  {
   "cell_type": "markdown",
   "metadata": {},
   "source": [
    "ADDING AND REMOVING ELEMENTS IN THE ARRAYS\n",
    "- np.append(h, g) - Append items to an array\n",
    "- np.insert(a, 1, 5) - Inserts items in an array\n",
    "- np.delete(a, [1]) - Delete items from an array"
   ]
  },
  {
   "cell_type": "code",
   "execution_count": 16,
   "metadata": {},
   "outputs": [
    {
     "name": "stdout",
     "output_type": "stream",
     "text": [
      "[20 30 40 60 90]\n",
      "[ 20  40  30  50  90 100]\n"
     ]
    }
   ],
   "source": [
    "a = np.array([20,30, 40, 60])\n",
    "print(np.append(a, 90))\n",
    "\n",
    "b = np.array([[20, 40], [30, 50]])\n",
    "print(np.append(b, [90, 100]))"
   ]
  },
  {
   "cell_type": "code",
   "execution_count": 17,
   "metadata": {},
   "outputs": [
    {
     "name": "stdout",
     "output_type": "stream",
     "text": [
      "[20  2 30 40 60]\n",
      "[[ 5 20 40]\n",
      " [10 30 50]]\n",
      "[[20 40]\n",
      " [ 6  4]\n",
      " [30 50]\n",
      " [ 6  4]]\n"
     ]
    }
   ],
   "source": [
    "a = np.array([20,30, 40, 60])\n",
    "print(np.insert(a,1,2))  #array, index, value\n",
    "\n",
    "b = np.array([[20, 40], [30, 50]])\n",
    "print(np.insert(b,0, [5, 10], axis = 1))\n",
    "\n",
    "print(np.insert(b, [1,2], [6,4], axis =0))"
   ]
  },
  {
   "cell_type": "code",
   "execution_count": 18,
   "metadata": {},
   "outputs": [
    {
     "name": "stdout",
     "output_type": "stream",
     "text": [
      "[20 30 40 60]\n",
      "[20 40 60]\n",
      "[20 40 60]\n"
     ]
    }
   ],
   "source": [
    "print(a)\n",
    "print(np.delete(a,1))\n",
    "print(np.delete(a,1))"
   ]
  },
  {
   "cell_type": "markdown",
   "metadata": {},
   "source": [
    "SORT, FILTER, SEARCH"
   ]
  },
  {
   "cell_type": "code",
   "execution_count": 19,
   "metadata": {},
   "outputs": [
    {
     "name": "stdout",
     "output_type": "stream",
     "text": [
      "[2 4 5 7 8 9]\n",
      "[[ 3  4  5  6  9 11]\n",
      " [ 2  4  5  7  8  9]]\n"
     ]
    }
   ],
   "source": [
    "ar = np.array([7,5, 4, 8, 2, 9])\n",
    "print(np.sort(ar))\n",
    "ar1 = np.array([[6, 11, 9, 3, 4, 5], [7, 5, 4, 8, 2, 9]])\n",
    "print(np.sort(ar1))"
   ]
  },
  {
   "cell_type": "code",
   "execution_count": 20,
   "metadata": {},
   "outputs": [
    {
     "name": "stdout",
     "output_type": "stream",
     "text": [
      "(array([2, 3, 4]),)\n",
      "3\n"
     ]
    }
   ],
   "source": [
    "ar = np.array([7, 5, 4, 8, 2, 9])\n",
    "s = np.where(ar % 2 == 0)    # gives index of that element\n",
    "print(s)\n",
    "\n",
    "ar1 = np.array([1, 2, 3, 4, 5])\n",
    "ss = np.searchsorted(ar1, 4)    # it search the element of already sorted array\n",
    "print(ss)\n"
   ]
  },
  {
   "cell_type": "code",
   "execution_count": 21,
   "metadata": {},
   "outputs": [
    {
     "name": "stdout",
     "output_type": "stream",
     "text": [
      "[10 20]\n",
      "[40 30]\n"
     ]
    }
   ],
   "source": [
    "ar = np.array([10, 40, 30, 20])\n",
    "fa = [True, False, False, True]\n",
    "print(ar[fa])   # both ar and fa has same no of elements \n",
    "fa1 = ar > 25\n",
    "print(ar[fa1])"
   ]
  },
  {
   "cell_type": "markdown",
   "metadata": {},
   "source": [
    "AGGREGATING FUNCTIONS"
   ]
  },
  {
   "cell_type": "code",
   "execution_count": 22,
   "metadata": {},
   "outputs": [
    {
     "name": "stdout",
     "output_type": "stream",
     "text": [
      "100\n",
      "10\n",
      "40\n",
      "4\n",
      "[ 10  50  80 100]\n",
      "[    10    400  12000 240000]\n"
     ]
    }
   ],
   "source": [
    "a = np.array([10, 40, 30, 20])\n",
    "\n",
    "print(np.sum(a))\n",
    "print(np.min(a))\n",
    "print(np.max(a))\n",
    "print(np.size(a))\n",
    "print(np.cumsum(a))\n",
    "print(np.cumprod(a))"
   ]
  },
  {
   "cell_type": "code",
   "execution_count": 38,
   "metadata": {},
   "outputs": [
    {
     "name": "stdout",
     "output_type": "stream",
     "text": [
      "[10 20 30 40] \n",
      " [3 5 2 5]\n",
      "product [ 30 100  60 200]\n",
      "total 390\n"
     ]
    }
   ],
   "source": [
    "a = [10, 20, 30, 40]\n",
    "b = [3, 5, 2, 5]\n",
    "\n",
    "price = np.array(a)\n",
    "quant = np.array(b)\n",
    "\n",
    "print( price, \"\\n\", quant)\n",
    "\n",
    "c = np.cumprod([price, quant], axis = 0)\n",
    "d = c[1]\n",
    "print(\"product\",d)\n",
    "print(\"total\",np.sum(d))"
   ]
  },
  {
   "cell_type": "markdown",
   "metadata": {},
   "source": [
    "STATISTICAL FUNCTIONS UNDER NUMPY"
   ]
  },
  {
   "cell_type": "code",
   "execution_count": 43,
   "metadata": {},
   "outputs": [
    {
     "name": "stdout",
     "output_type": "stream",
     "text": [
      "196.0\n",
      "200.0\n",
      "58.855755878248644\n",
      "3464.0\n"
     ]
    }
   ],
   "source": [
    "#import satistics as stats for mode\n",
    "a1 = np.array([200, 300, 150, 130, 200])\n",
    "print(np.mean(a1))\n",
    "print(np.median(a1))\n",
    "print(np.std(a1))\n",
    "print(np.var(a1))"
   ]
  },
  {
   "cell_type": "code",
   "execution_count": 44,
   "metadata": {},
   "outputs": [
    {
     "name": "stdout",
     "output_type": "stream",
     "text": [
      "[[1.         0.99015454]\n",
      " [0.99015454 1.        ]]\n"
     ]
    }
   ],
   "source": [
    "# coefficient\n",
    "# -1 repreesent inversely proportional relation ship\n",
    "# 1 represents proportional relation ship\n",
    "# 0 means no relationship\n",
    "tobacoo_consumption = np.array([30, 50, 10, 30, 50, 40])\n",
    "deaths = np.array([100, 120, 70, 100, 120, 112])\n",
    "print(np.corrcoef([tobacoo_consumption, deaths]))"
   ]
  },
  {
   "cell_type": "code",
   "execution_count": 45,
   "metadata": {},
   "outputs": [
    {
     "name": "stdout",
     "output_type": "stream",
     "text": [
      "[[ 1.         -0.66621445]\n",
      " [-0.66621445  1.        ]]\n"
     ]
    }
   ],
   "source": [
    "price = np.array([300, 100, 350, 150, 200])\n",
    "sales = np.array([10, 20, 7, 17, 3])\n",
    "\n",
    "print(np.corrcoef([price, sales]))"
   ]
  }
 ],
 "metadata": {
  "kernelspec": {
   "display_name": "base",
   "language": "python",
   "name": "python3"
  },
  "language_info": {
   "codemirror_mode": {
    "name": "ipython",
    "version": 3
   },
   "file_extension": ".py",
   "mimetype": "text/x-python",
   "name": "python",
   "nbconvert_exporter": "python",
   "pygments_lexer": "ipython3",
   "version": "3.12.2"
  }
 },
 "nbformat": 4,
 "nbformat_minor": 2
}
