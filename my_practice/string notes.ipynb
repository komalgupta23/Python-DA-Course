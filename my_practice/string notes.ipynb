{
 "cells": [
  {
   "cell_type": "markdown",
   "metadata": {},
   "source": [
    "Write a program to replace all special character with _ "
   ]
  },
  {
   "cell_type": "code",
   "execution_count": 1,
   "metadata": {},
   "outputs": [
    {
     "name": "stdout",
     "output_type": "stream",
     "text": [
      "kom@l gupt@ , neha ! * 4\n",
      "kom_l gupt_ _ neha _ _ 4\n"
     ]
    }
   ],
   "source": [
    "sent = 'kom@l gupt@ , neha ! * 4'\n",
    "sent1 = sent.replace('@','_').replace(',','_').replace('!','_').replace('*','_')\n",
    "print(sent ,sent1,sep = '\\n')\n"
   ]
  },
  {
   "cell_type": "markdown",
   "metadata": {},
   "source": [
    "Write a program to remove all vowels in a string\n"
   ]
  },
  {
   "cell_type": "code",
   "execution_count": 9,
   "metadata": {},
   "outputs": [
    {
     "name": "stdout",
     "output_type": "stream",
     "text": [
      "kml gpt\n"
     ]
    }
   ],
   "source": [
    "sent = 'komal gupta'\n",
    "vowel = ['a', 'e', 'i', 'o', 'u']\n",
    "without_vowel = ''\n",
    "for chr in sent:\n",
    "    if chr not in vowel:\n",
    "        without_vowel += chr\n",
    "print(without_vowel)"
   ]
  },
  {
   "cell_type": "markdown",
   "metadata": {},
   "source": [
    "Write a program to remove all special characters in a string\n"
   ]
  },
  {
   "cell_type": "code",
   "execution_count": 13,
   "metadata": {},
   "outputs": [
    {
     "name": "stdout",
     "output_type": "stream",
     "text": [
      " koml gupt  neha   4  \n"
     ]
    }
   ],
   "source": [
    "sent = 'kom@l gupt@ , neha ! * 4 > ?'\n",
    "special = ['!', '@', '*', '>', '?', ',']\n",
    "without_special = ' '\n",
    "for chr in sent:\n",
    "    if chr not in special:\n",
    "        without_special += chr\n",
    "print(without_special)"
   ]
  },
  {
   "cell_type": "markdown",
   "metadata": {},
   "source": [
    ". Write a program to count all the characters in a string\n"
   ]
  },
  {
   "cell_type": "markdown",
   "metadata": {},
   "source": []
  },
  {
   "cell_type": "code",
   "execution_count": 22,
   "metadata": {},
   "outputs": [
    {
     "name": "stdout",
     "output_type": "stream",
     "text": [
      "23\n"
     ]
    }
   ],
   "source": [
    "sent = 'kom@l gupt@, neha ! * 4'\n",
    "total = 0\n",
    "for chr in sent:\n",
    "    total += 1 \n",
    "print(total)"
   ]
  },
  {
   "cell_type": "markdown",
   "metadata": {},
   "source": [
    "Write a program to count all the words in a string\n"
   ]
  },
  {
   "cell_type": "code",
   "execution_count": 25,
   "metadata": {},
   "outputs": [
    {
     "name": "stdout",
     "output_type": "stream",
     "text": [
      "['Hii,', 'I', 'am', 'Komal', 'Gupta.', 'I', 'am', 'pursuing', 'MCA', 'from', 'SRMU.']\n",
      "11\n"
     ]
    }
   ],
   "source": [
    "sentence = 'Hii, I am Komal Gupta. I am pursuing MCA from SRMU.'\n",
    "split = sentence.split()\n",
    "print(split)\n",
    "total = 0\n",
    "for i in split:\n",
    "    total += 1\n",
    "print(total)"
   ]
  },
  {
   "cell_type": "markdown",
   "metadata": {},
   "source": [
    "Write a program to count all the special characters in a string\n"
   ]
  },
  {
   "cell_type": "code",
   "execution_count": 33,
   "metadata": {},
   "outputs": [
    {
     "name": "stdout",
     "output_type": "stream",
     "text": [
      "4\n"
     ]
    }
   ],
   "source": [
    "sent = 'kom@l gupt@ neha ! * 4'\n",
    "total = 0\n",
    "count1 = ['@', '!','*']\n",
    "\n",
    "for i in sent:\n",
    "    if i in count1:\n",
    "       total += 1\n",
    "       \n",
    "print(total)"
   ]
  },
  {
   "cell_type": "markdown",
   "metadata": {},
   "source": [
    "Write a program to print the emojis in python\n"
   ]
  },
  {
   "cell_type": "code",
   "execution_count": 11,
   "metadata": {},
   "outputs": [
    {
     "name": "stdout",
     "output_type": "stream",
     "text": [
      "😉\n",
      "😌\n",
      "😏\n",
      "😒\n",
      "🦷\n"
     ]
    }
   ],
   "source": [
    "'''for i in range(1,101):\n",
    "    print(chr(i), i)'''\"circle and dot.py\"\n",
    "    \n",
    "print('\\N{winking face}')\n",
    "print('\\N{relieved face}')\n",
    "print('\\N{smirking face}')\n",
    "print('\\N{unamused face}')\n",
    "print('\\N{tooth}')"
   ]
  },
  {
   "cell_type": "markdown",
   "metadata": {},
   "source": [
    "Write a program to print small and capital alphabets in pytho"
   ]
  },
  {
   "cell_type": "code",
   "execution_count": 20,
   "metadata": {},
   "outputs": [
    {
     "name": "stdout",
     "output_type": "stream",
     "text": [
      "Capital letters\n",
      "A B C D E F G H I J K L M N O P Q R S T U V W X Y Z \n",
      "Small letters\n",
      "a b c d e f g h i j k l m n o p q r s t u v w x y z "
     ]
    }
   ],
   "source": [
    "print(\"Capital letters\")\n",
    "for i in range(65,91):\n",
    "    print(chr(i), end = ' ')\n",
    "\n",
    "print('\\nSmall letters')\n",
    "for i in range(97,123):\n",
    "    print(chr(i),end = ' ')"
   ]
  },
  {
   "cell_type": "markdown",
   "metadata": {},
   "source": [
    "Print only the even indexed elements in a message"
   ]
  },
  {
   "cell_type": "code",
   "execution_count": 24,
   "metadata": {},
   "outputs": [
    {
     "name": "stdout",
     "output_type": "stream",
     "text": [
      "komalg gupta\n",
      "The even indexed elements of given word is kml ut\n"
     ]
    }
   ],
   "source": [
    "word = input(\"Enter any word:\")\n",
    "print(word)\n",
    "#even_slice = word[0,7,2]\n",
    "print('The even indexed elements of given word is', word[0:-1:2])"
   ]
  },
  {
   "cell_type": "markdown",
   "metadata": {},
   "source": [
    ". Write a program to convert every character in message to its unicode number\n"
   ]
  },
  {
   "cell_type": "code",
   "execution_count": 26,
   "metadata": {},
   "outputs": [
    {
     "name": "stdout",
     "output_type": "stream",
     "text": [
      "KomAl\n",
      "75\n",
      "111\n",
      "109\n",
      "65\n",
      "108\n"
     ]
    }
   ],
   "source": [
    "message = input('Enter any string:')\n",
    "print(message)\n",
    "for i in message:\n",
    "    print(ord(i))"
   ]
  },
  {
   "cell_type": "markdown",
   "metadata": {},
   "source": [
    "Write a program to print every number into its character version"
   ]
  },
  {
   "cell_type": "code",
   "execution_count": 27,
   "metadata": {},
   "outputs": [
    {
     "name": "stdout",
     "output_type": "stream",
     "text": [
      "R\n"
     ]
    }
   ],
   "source": [
    "num = int(input(\"Enter any number:\"))\n",
    "print(chr(num))"
   ]
  },
  {
   "cell_type": "markdown",
   "metadata": {},
   "source": [
    "Print every 3rd char of each word after removing all the vowels\n"
   ]
  },
  {
   "cell_type": "code",
   "execution_count": 42,
   "metadata": {},
   "outputs": [
    {
     "name": "stdout",
     "output_type": "stream",
     "text": [
      "This is sparta\n",
      "Ths s sprt\n",
      "['Ths', 's', 'sprt']\n",
      "s r "
     ]
    }
   ],
   "source": [
    "sent = 'This is sparta'\n",
    "print(sent)\n",
    "\n",
    "without_vowel = ''\n",
    "vowel = ['a','e','i','o', 'u']\n",
    "\n",
    "for i in sent:\n",
    "    if i not in vowel:\n",
    "        without_vowel += i\n",
    "print(without_vowel)\n",
    "\n",
    "# code for printing 3rd element of each word\n",
    "\n",
    "split = without_vowel.split()\n",
    "print(split)\n",
    "\n",
    "for i in split:\n",
    "        if len(i) >= 3:\n",
    "            print(i[2], end = ' ')\n",
    "        \n",
    "\n",
    "\n",
    "        "
   ]
  },
  {
   "cell_type": "code",
   "execution_count": null,
   "metadata": {},
   "outputs": [],
   "source": []
  }
 ],
 "metadata": {
  "kernelspec": {
   "display_name": "base",
   "language": "python",
   "name": "python3"
  },
  "language_info": {
   "codemirror_mode": {
    "name": "ipython",
    "version": 3
   },
   "file_extension": ".py",
   "mimetype": "text/x-python",
   "name": "python",
   "nbconvert_exporter": "python",
   "pygments_lexer": "ipython3",
   "version": "3.11.5"
  }
 },
 "nbformat": 4,
 "nbformat_minor": 2
}
