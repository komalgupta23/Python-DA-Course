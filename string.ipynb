{
 "cells": [
  {
   "cell_type": "markdown",
   "metadata": {},
   "source": [
    "String\n",
    "-  create\n",
    "- indexing and access\n",
    "- slicing\n",
    "- most useful methods "
   ]
  },
  {
   "cell_type": "code",
   "execution_count": 2,
   "metadata": {},
   "outputs": [],
   "source": [
    "a = 'komal' # single quotes\n",
    "b = \"krishna\"   # double quotes\n",
    "c = '''i am a girl'''   # multiline/triple quotes"
   ]
  },
  {
   "cell_type": "markdown",
   "metadata": {},
   "source": [
    "- sting is immutable\n",
    "- string is iterable\n",
    "- It is indexed\n",
    "- It is sliced"
   ]
  },
  {
   "cell_type": "code",
   "execution_count": 6,
   "metadata": {},
   "outputs": [
    {
     "name": "stdout",
     "output_type": "stream",
     "text": [
      "a\n",
      "i\n",
      "i\n"
     ]
    }
   ],
   "source": [
    "print(a[3])\n",
    "print(b[2])\n",
    "print(c[-3])"
   ]
  },
  {
   "cell_type": "code",
   "execution_count": 12,
   "metadata": {},
   "outputs": [
    {
     "name": "stdout",
     "output_type": "stream",
     "text": [
      "vijay\n",
      "deenanath\n",
      "chauhan\n",
      "vijay\n",
      "chauhan\n",
      "vijay deenanath chauhan\n",
      "vjydeaah\n",
      "vjydeaahcahn\n",
      "nahuahc htananeed yajiv\n"
     ]
    }
   ],
   "source": [
    "# slicing\n",
    "\n",
    "name = \"vijay deenanath chauhan\"\n",
    "print(name[0:5])\n",
    "print(name[6:15])\n",
    "print(name[-7:23])\n",
    "print(name[:5]) # start to 5 index\n",
    "print(name[-7:])    # -7 index to end\n",
    "print(name[:])  # start to end\n",
    "print(name[:15:2])  # start to 15 index with step 2\n",
    "print(name[::2])  # start to end with step 2\n",
    "print(name[::-1])  # reverse the string\n"
   ]
  },
  {
   "cell_type": "code",
   "execution_count": 13,
   "metadata": {},
   "outputs": [
    {
     "data": {
      "text/plain": [
       "'nahua'"
      ]
     },
     "execution_count": 13,
     "metadata": {},
     "output_type": "execute_result"
    }
   ],
   "source": [
    "name[:][::-1][:5]"
   ]
  },
  {
   "cell_type": "code",
   "execution_count": 17,
   "metadata": {},
   "outputs": [
    {
     "data": {
      "text/plain": [
       "'komal gupta'"
      ]
     },
     "execution_count": 17,
     "metadata": {},
     "output_type": "execute_result"
    }
   ],
   "source": [
    "# concatenation\n",
    "\n",
    "fname = 'komal'\n",
    "lname = 'gupta'\n",
    "fname + ' ' + lname"
   ]
  },
  {
   "cell_type": "code",
   "execution_count": 16,
   "metadata": {},
   "outputs": [
    {
     "data": {
      "text/plain": [
       "'🤩🤩🤩🤩🤩🤩🤩🤩🤩🤩'"
      ]
     },
     "execution_count": 16,
     "metadata": {},
     "output_type": "execute_result"
    }
   ],
   "source": [
    "'🤩' * 10 # repetition"
   ]
  },
  {
   "cell_type": "code",
   "execution_count": 15,
   "metadata": {},
   "outputs": [
    {
     "name": "stdout",
     "output_type": "stream",
     "text": [
      "*\n",
      "**\n",
      "***\n",
      "****\n",
      "*****\n",
      "******\n",
      "*******\n",
      "********\n",
      "*********\n",
      "**********\n"
     ]
    }
   ],
   "source": [
    "for i in range(1,11):\n",
    "    print('*' * i)"
   ]
  },
  {
   "cell_type": "code",
   "execution_count": null,
   "metadata": {},
   "outputs": [],
   "source": [
    "for i in range(5):\n",
    "    print(\"i \")"
   ]
  },
  {
   "cell_type": "markdown",
   "metadata": {},
   "source": [
    "string methods"
   ]
  },
  {
   "cell_type": "code",
   "execution_count": 18,
   "metadata": {},
   "outputs": [
    {
     "data": {
      "text/plain": [
       "'Komal'"
      ]
     },
     "execution_count": 18,
     "metadata": {},
     "output_type": "execute_result"
    }
   ],
   "source": [
    "a.capitalize()"
   ]
  },
  {
   "cell_type": "markdown",
   "metadata": {},
   "source": [
    "find and replace"
   ]
  },
  {
   "cell_type": "code",
   "execution_count": 23,
   "metadata": {},
   "outputs": [
    {
     "name": "stdout",
     "output_type": "stream",
     "text": [
      "7\n",
      "-1\n",
      "3\n",
      "I am a king of lucknow\n",
      "I am a queen of allahabad\n"
     ]
    }
   ],
   "source": [
    "# find is for pattern searching not for word searching\n",
    "sentence = 'I am a queen of lucknow'\n",
    "print(sentence.find('queen'))\n",
    "print(sentence.find('king'))    # -1 if not found\n",
    "print(sentence.find('m'))\n",
    "\n",
    "\n",
    "print(sentence.replace('queen', 'king'))\n",
    "print(sentence.replace('lucknow', 'allahabad'))\n",
    "sentence2 = sentence.replace('queen', 'king').replace('lucknow', 'allahabad')\n"
   ]
  },
  {
   "cell_type": "code",
   "execution_count": 24,
   "metadata": {},
   "outputs": [
    {
     "data": {
      "text/plain": [
       "'I am a quffn of lucknow'"
      ]
     },
     "execution_count": 24,
     "metadata": {},
     "output_type": "execute_result"
    }
   ],
   "source": [
    "sentence.replace('e', 'f')"
   ]
  },
  {
   "cell_type": "markdown",
   "metadata": {},
   "source": [
    "split and join"
   ]
  },
  {
   "cell_type": "code",
   "execution_count": 25,
   "metadata": {},
   "outputs": [
    {
     "data": {
      "text/plain": [
       "['I', 'am', 'a', 'queen', 'of', 'lucknow']"
      ]
     },
     "execution_count": 25,
     "metadata": {},
     "output_type": "execute_result"
    }
   ],
   "source": [
    "sentence.split()"
   ]
  },
  {
   "cell_type": "code",
   "execution_count": 27,
   "metadata": {},
   "outputs": [
    {
     "name": "stdout",
     "output_type": "stream",
     "text": [
      "['twinkle, twinkle, little star', 'how i wonder what you are', 'up above the world so high', 'like a diamond in the sky']\n",
      "['twinkle,', 'twinkle,', 'little', 'star', 'how', 'i', 'wonder', 'what', 'you', 'are', 'up', 'above', 'the', 'world', 'so', 'high', 'like', 'a', 'diamond', 'in', 'the', 'sky']\n",
      "['twinkle', ' twinkle', ' little star\\nhow i wonder what you are\\nup above the world so high\\nlike a diamond in the sky']\n"
     ]
    }
   ],
   "source": [
    "poem = '''twinkle, twinkle, little star\n",
    "how i wonder what you are\n",
    "up above the world so high\n",
    "like a diamond in the sky'''\n",
    "\n",
    "print(poem.splitlines())    # better than split('\\n')\n",
    "print(poem.split())\n",
    "print(poem.split(\",\"))"
   ]
  },
  {
   "cell_type": "code",
   "execution_count": 30,
   "metadata": {},
   "outputs": [
    {
     "name": "stdout",
     "output_type": "stream",
     "text": [
      "C: home user documents file.txt\n",
      "C:/home/user/documents/file.txt\n",
      "C:,home,user,documents,file.txt\n",
      "C:homeuserdocumentsfile.txt\n",
      "C:🧐home🧐user🧐documents🧐file.txt\n"
     ]
    }
   ],
   "source": [
    "path = ['C:', 'home', 'user', 'documents', 'file.txt']\n",
    "print(\" \".join(path))\n",
    "print(\"/\".join(path))\n",
    "print(\",\".join(path))\n",
    "print(\"\".join(path))\n",
    "print(\"🧐\".join(path))"
   ]
  },
  {
   "cell_type": "code",
   "execution_count": null,
   "metadata": {},
   "outputs": [],
   "source": []
  }
 ],
 "metadata": {
  "kernelspec": {
   "display_name": "base",
   "language": "python",
   "name": "python3"
  },
  "language_info": {
   "codemirror_mode": {
    "name": "ipython",
    "version": 3
   },
   "file_extension": ".py",
   "mimetype": "text/x-python",
   "name": "python",
   "nbconvert_exporter": "python",
   "pygments_lexer": "ipython3",
   "version": "3.11.5"
  }
 },
 "nbformat": 4,
 "nbformat_minor": 2
}
