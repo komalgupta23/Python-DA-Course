{
 "cells": [
  {
   "cell_type": "markdown",
   "metadata": {},
   "source": [
    "Write a program to replace all special character with _ "
   ]
  },
  {
   "cell_type": "code",
   "execution_count": 1,
   "metadata": {},
   "outputs": [
    {
     "name": "stdout",
     "output_type": "stream",
     "text": [
      "kom@l gupt@ , neha ! * 4\n",
      "kom_l gupt_ _ neha _ _ 4\n"
     ]
    }
   ],
   "source": [
    "sent = 'kom@l gupt@ , neha ! * 4'\n",
    "sent1 = sent.replace('@','_').replace(',','_').replace('!','_').replace('*','_')\n",
    "print(sent ,sent1,sep = '\\n')\n"
   ]
  },
  {
   "cell_type": "markdown",
   "metadata": {},
   "source": [
    "Write a program to remove all vowels in a string\n"
   ]
  },
  {
   "cell_type": "code",
   "execution_count": 9,
   "metadata": {},
   "outputs": [
    {
     "name": "stdout",
     "output_type": "stream",
     "text": [
      "kml gpt\n"
     ]
    }
   ],
   "source": [
    "sent = 'komal gupta'\n",
    "vowel = ['a', 'e', 'i', 'o', 'u']\n",
    "without_vowel = ''\n",
    "for chr in sent:\n",
    "    if chr not in vowel:\n",
    "        without_vowel += chr\n",
    "print(without_vowel)"
   ]
  },
  {
   "cell_type": "markdown",
   "metadata": {},
   "source": [
    "Write a program to remove all special characters in a string\n"
   ]
  },
  {
   "cell_type": "code",
   "execution_count": 13,
   "metadata": {},
   "outputs": [
    {
     "name": "stdout",
     "output_type": "stream",
     "text": [
      " koml gupt  neha   4  \n"
     ]
    }
   ],
   "source": [
    "sent = 'kom@l gupt@ , neha ! * 4 > ?'\n",
    "special = ['!', '@', '*', '>', '?', ',']\n",
    "without_special = ' '\n",
    "for chr in sent:\n",
    "    if chr not in special:\n",
    "        without_special += chr\n",
    "print(without_special)"
   ]
  },
  {
   "cell_type": "markdown",
   "metadata": {},
   "source": [
    ". Write a program to count all the characters in a string\n"
   ]
  },
  {
   "cell_type": "markdown",
   "metadata": {},
   "source": []
  },
  {
   "cell_type": "code",
   "execution_count": 22,
   "metadata": {},
   "outputs": [
    {
     "name": "stdout",
     "output_type": "stream",
     "text": [
      "23\n"
     ]
    }
   ],
   "source": [
    "sent = 'kom@l gupt@, neha ! * 4'\n",
    "total = 0\n",
    "for chr in sent:\n",
    "    total += 1 \n",
    "print(total)"
   ]
  },
  {
   "cell_type": "markdown",
   "metadata": {},
   "source": [
    "Write a program to count all the words in a string\n"
   ]
  },
  {
   "cell_type": "code",
   "execution_count": 25,
   "metadata": {},
   "outputs": [
    {
     "name": "stdout",
     "output_type": "stream",
     "text": [
      "['Hii,', 'I', 'am', 'Komal', 'Gupta.', 'I', 'am', 'pursuing', 'MCA', 'from', 'SRMU.']\n",
      "11\n"
     ]
    }
   ],
   "source": [
    "sentence = 'Hii, I am Komal Gupta. I am pursuing MCA from SRMU.'\n",
    "split = sentence.split()\n",
    "print(split)\n",
    "total = 0\n",
    "for i in split:\n",
    "    total += 1\n",
    "print(total)"
   ]
  },
  {
   "cell_type": "markdown",
   "metadata": {},
   "source": [
    "Write a program to count all the special characters in a string\n"
   ]
  },
  {
   "cell_type": "code",
   "execution_count": 33,
   "metadata": {},
   "outputs": [
    {
     "name": "stdout",
     "output_type": "stream",
     "text": [
      "4\n"
     ]
    }
   ],
   "source": [
    "sent = 'kom@l gupt@ neha ! * 4'\n",
    "total = 0\n",
    "count1 = ['@', '!','*']\n",
    "\n",
    "for i in sent:\n",
    "    if i in count1:\n",
    "       total += 1\n",
    "       \n",
    "print(total)"
   ]
  },
  {
   "cell_type": "markdown",
   "metadata": {},
   "source": [
    "Write a program to print the emojis in python\n"
   ]
  },
  {
   "cell_type": "code",
   "execution_count": 11,
   "metadata": {},
   "outputs": [
    {
     "name": "stdout",
     "output_type": "stream",
     "text": [
      "😉\n",
      "😌\n",
      "😏\n",
      "😒\n",
      "🦷\n"
     ]
    }
   ],
   "source": [
    "'''for i in range(1,101):\n",
    "    print(chr(i), i)'''\"circle and dot.py\"\n",
    "    \n",
    "print('\\N{winking face}')\n",
    "print('\\N{relieved face}')\n",
    "print('\\N{smirking face}')\n",
    "print('\\N{unamused face}')\n",
    "print('\\N{tooth}')"
   ]
  },
  {
   "cell_type": "markdown",
   "metadata": {},
   "source": [
    "Write a program to print small and capital alphabets in pytho"
   ]
  },
  {
   "cell_type": "code",
   "execution_count": 20,
   "metadata": {},
   "outputs": [
    {
     "name": "stdout",
     "output_type": "stream",
     "text": [
      "Capital letters\n",
      "A B C D E F G H I J K L M N O P Q R S T U V W X Y Z \n",
      "Small letters\n",
      "a b c d e f g h i j k l m n o p q r s t u v w x y z "
     ]
    }
   ],
   "source": [
    "print(\"Capital letters\")\n",
    "for i in range(65,91):\n",
    "    print(chr(i), end = ' ')\n",
    "\n",
    "print('\\nSmall letters')\n",
    "for i in range(97,123):\n",
    "    print(chr(i),end = ' ')"
   ]
  },
  {
   "cell_type": "markdown",
   "metadata": {},
   "source": [
    "Print only the even indexed elements in a message"
   ]
  },
  {
   "cell_type": "code",
   "execution_count": 24,
   "metadata": {},
   "outputs": [
    {
     "name": "stdout",
     "output_type": "stream",
     "text": [
      "komalg gupta\n",
      "The even indexed elements of given word is kml ut\n"
     ]
    }
   ],
   "source": [
    "word = input(\"Enter any word:\")\n",
    "print(word)\n",
    "#even_slice = word[0,7,2]\n",
    "print('The even indexed elements of given word is', word[0:-1:2])"
   ]
  },
  {
   "cell_type": "markdown",
   "metadata": {},
   "source": [
    ". Write a program to convert every character in message to its unicode number\n"
   ]
  },
  {
   "cell_type": "code",
   "execution_count": 26,
   "metadata": {},
   "outputs": [
    {
     "name": "stdout",
     "output_type": "stream",
     "text": [
      "KomAl\n",
      "75\n",
      "111\n",
      "109\n",
      "65\n",
      "108\n"
     ]
    }
   ],
   "source": [
    "message = input('Enter any string:')\n",
    "print(message)\n",
    "for i in message:\n",
    "    print(ord(i))"
   ]
  },
  {
   "cell_type": "markdown",
   "metadata": {},
   "source": [
    "Write a program to print every number into its character version"
   ]
  },
  {
   "cell_type": "code",
   "execution_count": 27,
   "metadata": {},
   "outputs": [
    {
     "name": "stdout",
     "output_type": "stream",
     "text": [
      "R\n"
     ]
    }
   ],
   "source": [
    "num = int(input(\"Enter any number:\"))\n",
    "print(chr(num))"
   ]
  },
  {
   "cell_type": "markdown",
   "metadata": {},
   "source": [
    "Print every 3rd char of each word after removing all the vowels\n"
   ]
  },
  {
   "cell_type": "code",
   "execution_count": 42,
   "metadata": {},
   "outputs": [
    {
     "name": "stdout",
     "output_type": "stream",
     "text": [
      "This is sparta\n",
      "Ths s sprt\n",
      "['Ths', 's', 'sprt']\n",
      "s r "
     ]
    }
   ],
   "source": [
    "sent = 'This is sparta'\n",
    "print(sent)\n",
    "\n",
    "without_vowel = ''\n",
    "vowel = ['a','e','i','o', 'u']\n",
    "\n",
    "for i in sent:\n",
    "    if i not in vowel:\n",
    "        without_vowel += i\n",
    "print(without_vowel)\n",
    "\n",
    "# code for printing 3rd element of each word\n",
    "\n",
    "split = without_vowel.split()\n",
    "print(split)\n",
    "\n",
    "for i in split:\n",
    "        if len(i) >= 3:\n",
    "            print(i[2], end = ' ')\n",
    "        \n",
    "\n",
    "\n",
    "        "
   ]
  },
  {
   "cell_type": "markdown",
   "metadata": {},
   "source": [
    "Create a string and print it."
   ]
  },
  {
   "cell_type": "code",
   "execution_count": 1,
   "metadata": {},
   "outputs": [
    {
     "name": "stdout",
     "output_type": "stream",
     "text": [
      "komal\n"
     ]
    }
   ],
   "source": [
    "stri = 'komal'\n",
    "print(stri)"
   ]
  },
  {
   "cell_type": "markdown",
   "metadata": {},
   "source": [
    "Take a string input and print it's length."
   ]
  },
  {
   "cell_type": "code",
   "execution_count": 2,
   "metadata": {},
   "outputs": [
    {
     "name": "stdout",
     "output_type": "stream",
     "text": [
      "srmu\n",
      "4\n"
     ]
    }
   ],
   "source": [
    "strin = input('Enter any string:')\n",
    "print(strin)\n",
    "print(len(strin))"
   ]
  },
  {
   "cell_type": "markdown",
   "metadata": {},
   "source": [
    "Print the last word of the string \"Python is great\" using slices."
   ]
  },
  {
   "cell_type": "code",
   "execution_count": 3,
   "metadata": {},
   "outputs": [
    {
     "name": "stdout",
     "output_type": "stream",
     "text": [
      "great\n"
     ]
    }
   ],
   "source": [
    "string = 'Python is great'\n",
    "print(string[-5:])"
   ]
  },
  {
   "cell_type": "markdown",
   "metadata": {},
   "source": [
    "Print the each word in different line of string python is everywhere."
   ]
  },
  {
   "cell_type": "code",
   "execution_count": 11,
   "metadata": {},
   "outputs": [
    {
     "name": "stdout",
     "output_type": "stream",
     "text": [
      "['Python', 'is', 'everywhere']\n",
      "Python\n",
      "is\n",
      "everywhere\n"
     ]
    }
   ],
   "source": [
    "string = 'Python is everywhere'\n",
    "each_word = string.split()\n",
    "print(each_word)\n",
    "for i in each_word:\n",
    "    print(i)"
   ]
  },
  {
   "cell_type": "markdown",
   "metadata": {},
   "source": [
    "Print the string \" Hello World! \" in reverse."
   ]
  },
  {
   "cell_type": "code",
   "execution_count": 18,
   "metadata": {},
   "outputs": [
    {
     "name": "stdout",
     "output_type": "stream",
     "text": [
      "! World Hello \n"
     ]
    }
   ],
   "source": [
    "string = 'Hello World !'\n",
    "each_word = string.split()\n",
    "rev = ''\n",
    "count = len(each_word)\n",
    "for i in each_word:\n",
    "    rev += each_word[count - 1] + ' '\n",
    "    count -= 1\n",
    "print(rev)"
   ]
  },
  {
   "cell_type": "markdown",
   "metadata": {},
   "source": [
    "Convert the string \" How are you? \" in uppercase."
   ]
  },
  {
   "cell_type": "code",
   "execution_count": 21,
   "metadata": {},
   "outputs": [
    {
     "name": "stdout",
     "output_type": "stream",
     "text": [
      "HOW ARE YOU?\n"
     ]
    }
   ],
   "source": [
    "string = 'How are you?'\n",
    "upper = string.upper()\n",
    "print(upper)"
   ]
  },
  {
   "cell_type": "markdown",
   "metadata": {},
   "source": [
    "Convert the string \" How Is It Going? \" in lowercase."
   ]
  },
  {
   "cell_type": "code",
   "execution_count": 22,
   "metadata": {},
   "outputs": [
    {
     "name": "stdout",
     "output_type": "stream",
     "text": [
      "how is it going?\n"
     ]
    }
   ],
   "source": [
    "string = 'How Is It Going?'\n",
    "print(string.lower())"
   ]
  },
  {
   "cell_type": "markdown",
   "metadata": {},
   "source": [
    "Join the following list by spaces( ) and print the result.\n",
    "- words = ['Python', 'is', 'easy', 'to', 'learn']\n"
   ]
  },
  {
   "cell_type": "code",
   "execution_count": 27,
   "metadata": {},
   "outputs": [
    {
     "name": "stdout",
     "output_type": "stream",
     "text": [
      "Python is easy to learn\n"
     ]
    }
   ],
   "source": [
    "words = ['Python', 'is', 'easy', 'to', 'learn']\n",
    "print(' '.join(words))"
   ]
  },
  {
   "cell_type": "markdown",
   "metadata": {},
   "source": [
    "Print a multiline string using a single print."
   ]
  },
  {
   "cell_type": "code",
   "execution_count": 28,
   "metadata": {},
   "outputs": [
    {
     "name": "stdout",
     "output_type": "stream",
     "text": [
      "twinkle, twinkle, little star\n",
      "how i wonder what you are\n",
      "up above the world so high\n",
      "like a diamond in the sky\n"
     ]
    }
   ],
   "source": [
    "print('''twinkle, twinkle, little star\n",
    "how i wonder what you are\n",
    "up above the world so high\n",
    "like a diamond in the sky''')"
   ]
  },
  {
   "cell_type": "markdown",
   "metadata": {},
   "source": [
    "Print this string \"to move to newline '\\n' is used \". (results should look exactly like the provided string)"
   ]
  },
  {
   "cell_type": "code",
   "execution_count": 36,
   "metadata": {},
   "outputs": [
    {
     "name": "stdout",
     "output_type": "stream",
     "text": [
      "\"to move to newline '\\n' is used\"\n"
     ]
    }
   ],
   "source": [
    "#print(f\"to move to newline {'\\n'} is used\")\n",
    "\n",
    "print(repr(\"to move to newline '\\n' is used\"))\n",
    "\n",
    "#print(format,to move to newline '\\n' is used)\n"
   ]
  },
  {
   "cell_type": "markdown",
   "metadata": {},
   "source": [
    "Print a variable with some text using a single print function, output should look like following.\n",
    "- the variable is 15"
   ]
  },
  {
   "cell_type": "code",
   "execution_count": 3,
   "metadata": {},
   "outputs": [
    {
     "name": "stdout",
     "output_type": "stream",
     "text": [
      "The variable is 15 whose value is stored in a\n"
     ]
    }
   ],
   "source": [
    "a = 15\n",
    "print(f'The variable is {15} whose value is stored in a')"
   ]
  },
  {
   "cell_type": "markdown",
   "metadata": {},
   "source": [
    "concatenate the following strings and print the result\n",
    "- s1 = 'python '\n",
    "- s2 = 'is '\n",
    "- s3 = 'great.'"
   ]
  },
  {
   "cell_type": "code",
   "execution_count": 5,
   "metadata": {},
   "outputs": [
    {
     "name": "stdout",
     "output_type": "stream",
     "text": [
      "python is great.\n"
     ]
    }
   ],
   "source": [
    "s1 = 'python'\n",
    "s2 = ' is'\n",
    "s3 = ' great.'\n",
    "print(s1 + s2 + s3)"
   ]
  },
  {
   "cell_type": "markdown",
   "metadata": {},
   "source": [
    "Print # 20 times without using a loop"
   ]
  },
  {
   "cell_type": "code",
   "execution_count": 8,
   "metadata": {},
   "outputs": [
    {
     "name": "stdout",
     "output_type": "stream",
     "text": [
      " # # # # # # # # # # # # # # # # # # # #\n"
     ]
    }
   ],
   "source": [
    "print(' #' * 20)"
   ]
  },
  {
   "cell_type": "markdown",
   "metadata": {},
   "source": [
    "Print numbers from 1 to 9, each on a seperate line, followed by a dot, output should look like the following-\n",
    "- 1.\n",
    "- 2.\n",
    "- 3."
   ]
  },
  {
   "cell_type": "code",
   "execution_count": 16,
   "metadata": {},
   "outputs": [
    {
     "name": "stdout",
     "output_type": "stream",
     "text": [
      "1.\n",
      "2.\n",
      "3.\n",
      "4.\n",
      "5.\n",
      "6.\n",
      "7.\n",
      "8.\n",
      "9.\n"
     ]
    }
   ],
   "source": [
    "for i in range(1,10):\n",
    "    print(str(i) + '.')"
   ]
  },
  {
   "cell_type": "markdown",
   "metadata": {},
   "source": [
    "Ask user to input a sentence and print each word on a different line."
   ]
  },
  {
   "cell_type": "code",
   "execution_count": 23,
   "metadata": {},
   "outputs": [
    {
     "name": "stdout",
     "output_type": "stream",
     "text": [
      "jukojhj\n",
      "gujm\n"
     ]
    }
   ],
   "source": [
    "sent = input(\"Enter any sentence: \")\n",
    "each_word = sent.split()\n",
    "for str in each_word:\n",
    "    print(str)"
   ]
  },
  {
   "cell_type": "markdown",
   "metadata": {},
   "source": [
    "Ask user to input a string and check if the string ends with '?'"
   ]
  },
  {
   "cell_type": "code",
   "execution_count": 25,
   "metadata": {},
   "outputs": [
    {
     "data": {
      "text/plain": [
       "True"
      ]
     },
     "execution_count": 25,
     "metadata": {},
     "output_type": "execute_result"
    }
   ],
   "source": [
    "atring = input('Enter any string:')\n",
    "\n",
    "atring.endswith('?')"
   ]
  },
  {
   "cell_type": "markdown",
   "metadata": {},
   "source": [
    "Ask user to input a string and print how many times e appeared in the string"
   ]
  },
  {
   "cell_type": "code",
   "execution_count": 27,
   "metadata": {},
   "outputs": [
    {
     "name": "stdout",
     "output_type": "stream",
     "text": [
      "3\n"
     ]
    }
   ],
   "source": [
    "atring = input('Enter any string:')\n",
    "\n",
    "\n",
    "print(atring.count('e'))"
   ]
  },
  {
   "cell_type": "markdown",
   "metadata": {},
   "source": [
    "Check if the user input is a number."
   ]
  },
  {
   "cell_type": "code",
   "execution_count": 29,
   "metadata": {},
   "outputs": [
    {
     "name": "stdout",
     "output_type": "stream",
     "text": [
      "False\n"
     ]
    }
   ],
   "source": [
    "atring = input('Enter any string:')\n",
    "print(atring.isnumeric())"
   ]
  },
  {
   "cell_type": "markdown",
   "metadata": {},
   "source": [
    "Remove the extra spaces in beginning and in the end of the following string-\n",
    "- text = '   this is not a good string           '"
   ]
  },
  {
   "cell_type": "code",
   "execution_count": 32,
   "metadata": {},
   "outputs": [
    {
     "name": "stdout",
     "output_type": "stream",
     "text": [
      "this is not a good string\n"
     ]
    }
   ],
   "source": [
    "text = '    this is not a good string           '\n",
    "text_ = text.strip(' ')\n",
    "print(text_)"
   ]
  },
  {
   "cell_type": "markdown",
   "metadata": {},
   "source": [
    "Ask user to input string, print found if any of the character is upper case."
   ]
  },
  {
   "cell_type": "code",
   "execution_count": 52,
   "metadata": {},
   "outputs": [
    {
     "name": "stdout",
     "output_type": "stream",
     "text": [
      "yes,found\n"
     ]
    }
   ],
   "source": [
    "atring = input('Enter any string:')\n",
    "for i in atring:\n",
    "    if i.isupper():\n",
    "        print('yes,found')\n",
    "        break\n",
    "else:\n",
    "    print('not found')\n"
   ]
  },
  {
   "cell_type": "markdown",
   "metadata": {},
   "source": [
    "Extract names from the following string and store them in a list.\n",
    "- names = 'Joe, David, Mark, Tom, Chris, Robert'"
   ]
  },
  {
   "cell_type": "code",
   "execution_count": 54,
   "metadata": {},
   "outputs": [
    {
     "name": "stdout",
     "output_type": "stream",
     "text": [
      "['Joe,', 'David,', 'Mark,', 'Tom,', 'Chris,', 'Robert']\n"
     ]
    },
    {
     "data": {
      "text/plain": [
       "list"
      ]
     },
     "execution_count": 54,
     "metadata": {},
     "output_type": "execute_result"
    }
   ],
   "source": [
    "names = 'Joe, David, Mark, Tom, Chris, Robert'\n",
    "list = names.split()\n",
    "print(list)\n",
    "type(list)"
   ]
  },
  {
   "cell_type": "markdown",
   "metadata": {},
   "source": [
    "In the following string, add \"aye\" in the end of every word and print the results.\n",
    "- text = 'this is some text'"
   ]
  },
  {
   "cell_type": "code",
   "execution_count": 63,
   "metadata": {},
   "outputs": [
    {
     "name": "stdout",
     "output_type": "stream",
     "text": [
      "thisaye isaye someaye text\n"
     ]
    }
   ],
   "source": [
    "text = 'this is some text '\n",
    "text_ = text.split()\n",
    "print('aye '.join(text_))\n"
   ]
  },
  {
   "cell_type": "markdown",
   "metadata": {},
   "source": [
    "ask user to enter a string and check if the string contains 'fyi'"
   ]
  },
  {
   "cell_type": "code",
   "execution_count": 66,
   "metadata": {},
   "outputs": [
    {
     "name": "stdout",
     "output_type": "stream",
     "text": [
      "yes\n"
     ]
    }
   ],
   "source": [
    "atring = input('Enter any string:')\n",
    "if 'fyi' in atring:\n",
    "    print(\"yes\")\n",
    "else:\n",
    "    print('no')"
   ]
  },
  {
   "cell_type": "markdown",
   "metadata": {},
   "source": [
    "Remove all the special characters and numbers from the following string\n",
    "- text = '%p34@y!*-*!t68h#&on404'"
   ]
  },
  {
   "cell_type": "code",
   "execution_count": 7,
   "metadata": {},
   "outputs": [
    {
     "name": "stdout",
     "output_type": "stream",
     "text": [
      "p34yt68hon404\n",
      "python\n",
      "<built-in method isalnum of str object at 0x0000018696F69BB0>\n"
     ]
    }
   ],
   "source": [
    "text = '%p34@y!*-*!t68h#&on404'\n",
    "text_ = \"\"\n",
    "te_xt = \"\"\n",
    "for i in text:\n",
    "    if i.isalnum():\n",
    "        text_ += i\n",
    "    if i.isalpha()    :\n",
    "        te_xt += i\n",
    "print(text_)\n",
    "print(te_xt)\n"
   ]
  },
  {
   "cell_type": "markdown",
   "metadata": {},
   "source": [
    "calculate the average word length of the following paragraph.\n",
    "- this is a paragraph which is written just for the purpose of providing content to let the average word length be calculated"
   ]
  },
  {
   "cell_type": "code",
   "execution_count": 26,
   "metadata": {},
   "outputs": [
    {
     "name": "stdout",
     "output_type": "stream",
     "text": [
      "len of characters = 102\n",
      "len of words =  22\n",
      "Average Word Length = 4.636363636363637\n"
     ]
    }
   ],
   "source": [
    "# Average Word Length = total no. of characters in words(excluding spaces) divided by the no.of words.\n",
    "\n",
    "sent = \"this is a paragraph which is written just for the purpose of providing content to let the average word length be calculated\"\n",
    "\n",
    "# removing spaces to count characters with using len\n",
    "\n",
    "len_of_char = len(sent.replace(' ',''))\n",
    "print('len of characters =',len_of_char)\n",
    "\n",
    "#converting the sentence into list to count word by using len\n",
    "len_of_words = len(sent.split())\n",
    "print('len of words = ',len_of_words)\n",
    "\n",
    "# calculate AWL\n",
    "\n",
    "awl = len_of_char/len_of_words\n",
    "print('Average Word Length =', awl)\n"
   ]
  },
  {
   "cell_type": "code",
   "execution_count": null,
   "metadata": {},
   "outputs": [],
   "source": []
  }
 ],
 "metadata": {
  "kernelspec": {
   "display_name": "base",
   "language": "python",
   "name": "python3"
  },
  "language_info": {
   "codemirror_mode": {
    "name": "ipython",
    "version": 3
   },
   "file_extension": ".py",
   "mimetype": "text/x-python",
   "name": "python",
   "nbconvert_exporter": "python",
   "pygments_lexer": "ipython3",
   "version": "3.11.5"
  }
 },
 "nbformat": 4,
 "nbformat_minor": 2
}
