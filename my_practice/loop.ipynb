{
 "cells": [
  {
   "cell_type": "markdown",
   "metadata": {},
   "source": [
    "Write a program to print no. from 1 to 10 using a for loop."
   ]
  },
  {
   "cell_type": "code",
   "execution_count": 1,
   "metadata": {},
   "outputs": [
    {
     "name": "stdout",
     "output_type": "stream",
     "text": [
      "1\n",
      "2\n",
      "3\n",
      "4\n",
      "5\n",
      "6\n",
      "7\n",
      "8\n",
      "9\n",
      "10\n"
     ]
    }
   ],
   "source": [
    "for i in range(1,11):\n",
    "    print(i)"
   ]
  },
  {
   "cell_type": "markdown",
   "metadata": {},
   "source": [
    "Write a program to print the multiplication table of a given number using a while loop."
   ]
  },
  {
   "cell_type": "code",
   "execution_count": 4,
   "metadata": {},
   "outputs": [
    {
     "name": "stdout",
     "output_type": "stream",
     "text": [
      "2 X 1 =  2\n",
      "2 X 2 =  4\n",
      "2 X 3 =  6\n",
      "2 X 4 =  8\n",
      "2 X 5 =  10\n",
      "2 X 6 =  12\n",
      "2 X 7 =  14\n",
      "2 X 8 =  16\n",
      "2 X 9 =  18\n",
      "2 X 10 =  20\n"
     ]
    }
   ],
   "source": [
    "i = 1\n",
    "num = int(input(\"Enter a number for its table:\"))\n",
    "while i<=10:\n",
    "    print(f\"{num} X {i} = \",num*i)\n",
    "    i+=1"
   ]
  },
  {
   "cell_type": "markdown",
   "metadata": {},
   "source": [
    "Write a program to find the sum of all even numbers between 1 and 100 using a for loop."
   ]
  },
  {
   "cell_type": "code",
   "execution_count": 6,
   "metadata": {},
   "outputs": [
    {
     "name": "stdout",
     "output_type": "stream",
     "text": [
      "The sum of all even number from 1 to 100 is 2550\n"
     ]
    }
   ],
   "source": [
    "even = 0\n",
    "for i in range(1,101):\n",
    "    if i % 2 == 0:\n",
    "        even += i\n",
    "print(\"The sum of all even number from 1 to 100 is\",even)"
   ]
  },
  {
   "cell_type": "code",
   "execution_count": 1,
   "metadata": {},
   "outputs": [
    {
     "data": {
      "text/plain": [
       "2550"
      ]
     },
     "execution_count": 1,
     "metadata": {},
     "output_type": "execute_result"
    }
   ],
   "source": [
    "sum(range(0,101,2)) #shorter way to do same thing"
   ]
  },
  {
   "cell_type": "markdown",
   "metadata": {},
   "source": [
    "Write a program to check if a given number is prime or not using a while loop."
   ]
  },
  {
   "cell_type": "code",
   "execution_count": 15,
   "metadata": {},
   "outputs": [
    {
     "name": "stdout",
     "output_type": "stream",
     "text": [
      "Prime number 7\n"
     ]
    }
   ],
   "source": [
    "num = int(input(\"Enter a number:\"))\n",
    "i = 2\n",
    "'''if num == 1:\n",
    "    print(\"not prime number\",num)'''\n",
    "\n",
    "while i < num:\n",
    "    if num % i == 0 :\n",
    "        print(\"Not Prime number\",num )\n",
    "        break\n",
    "    i +=1\n",
    "else:\n",
    "    print(\"Prime number\",num)"
   ]
  },
  {
   "cell_type": "markdown",
   "metadata": {},
   "source": [
    "Write a program to calculate the factorial of a number using a for loop."
   ]
  },
  {
   "cell_type": "code",
   "execution_count": 17,
   "metadata": {},
   "outputs": [
    {
     "name": "stdout",
     "output_type": "stream",
     "text": [
      "120\n"
     ]
    }
   ],
   "source": [
    "num = int(input(\"Enter a number:\"))\n",
    "fact =1\n",
    "for i in range(1,num+1):\n",
    "    fact=fact *i\n",
    "print(fact)"
   ]
  },
  {
   "cell_type": "markdown",
   "metadata": {},
   "source": [
    "Write a program to print the Fibonacci series up to a given limit using a for loop."
   ]
  },
  {
   "cell_type": "code",
   "execution_count": 19,
   "metadata": {},
   "outputs": [
    {
     "name": "stdout",
     "output_type": "stream",
     "text": [
      "0\n",
      "1\n",
      "1\n",
      "2\n",
      "3\n",
      "5\n"
     ]
    }
   ],
   "source": [
    "num = int(input(\"Enter a number:\"))\n",
    "x=0\n",
    "y = 1\n",
    "z = 0\n",
    "for i in range(0,num+1):\n",
    "    print(z)\n",
    "    x=y\n",
    "    y = z\n",
    "    z = x+y\n",
    "    "
   ]
  },
  {
   "cell_type": "markdown",
   "metadata": {},
   "source": [
    "Write a program to find the largest element in an array using a for loop.\n"
   ]
  },
  {
   "cell_type": "code",
   "execution_count": 43,
   "metadata": {},
   "outputs": [
    {
     "name": "stdout",
     "output_type": "stream",
     "text": [
      "98\n"
     ]
    }
   ],
   "source": [
    "arr = [23,34,65,12,78,98]\n",
    "maxele = arr[0]\n",
    "for i in arr:\n",
    "    if i > maxele:\n",
    "        maxele = i\n",
    "print(maxele)"
   ]
  },
  {
   "cell_type": "code",
   "execution_count": 4,
   "metadata": {},
   "outputs": [
    {
     "data": {
      "text/plain": [
       "98"
      ]
     },
     "execution_count": 4,
     "metadata": {},
     "output_type": "execute_result"
    }
   ],
   "source": [
    "max(arr) #shorter way to do same thing"
   ]
  },
  {
   "cell_type": "markdown",
   "metadata": {},
   "source": [
    "Write a program to reverse a given string using a while loop."
   ]
  },
  {
   "cell_type": "code",
   "execution_count": 42,
   "metadata": {},
   "outputs": [
    {
     "name": "stdout",
     "output_type": "stream",
     "text": [
      "lamok\n"
     ]
    }
   ],
   "source": [
    "word = input(\"Enter a word:\") \n",
    "rev = ''\n",
    "a = len(word)\n",
    "while a > 0:\n",
    "    rev += word[a-1]\n",
    "    a -= 1\n",
    "print(rev)\n",
    "    \n",
    "    "
   ]
  },
  {
   "cell_type": "markdown",
   "metadata": {},
   "source": [
    "Write a program to print the ASCII values of all uppercase letters using a for loop."
   ]
  },
  {
   "cell_type": "code",
   "execution_count": 6,
   "metadata": {},
   "outputs": [
    {
     "name": "stdout",
     "output_type": "stream",
     "text": [
      "A 65\n",
      "B 66\n",
      "C 67\n",
      "D 68\n",
      "E 69\n",
      "F 70\n",
      "G 71\n",
      "H 72\n",
      "I 73\n",
      "J 74\n",
      "K 75\n",
      "L 76\n",
      "M 77\n",
      "N 78\n",
      "O 79\n",
      "P 80\n",
      "Q 81\n",
      "R 82\n",
      "S 83\n",
      "T 84\n",
      "U 85\n",
      "V 86\n",
      "W 87\n",
      "X 88\n",
      "Y 89\n",
      "Z 90\n"
     ]
    }
   ],
   "source": [
    "for i in range(65,91):\n",
    "    print(chr(i),i)"
   ]
  },
  {
   "cell_type": "markdown",
   "metadata": {},
   "source": [
    "Write a program to check if a given string is a palindrome using a for loop."
   ]
  },
  {
   "cell_type": "code",
   "execution_count": 13,
   "metadata": {},
   "outputs": [
    {
     "name": "stdout",
     "output_type": "stream",
     "text": [
      "Te original word: komal gupta\n",
      "The reversed word : atpug lamok\n"
     ]
    }
   ],
   "source": [
    "word = input(\"Enter any word:\")\n",
    "print('Te original word:',word)\n",
    "rev_str = ''\n",
    "count = len(word)\n",
    "for i in word:\n",
    "    rev_str += word[count-1]\n",
    "    count -= 1\n",
    "print('The reversed word :',rev_str)"
   ]
  },
  {
   "cell_type": "markdown",
   "metadata": {},
   "source": [
    "Write a program to calculate the average of a list of numbers using a for loop."
   ]
  },
  {
   "cell_type": "code",
   "execution_count": 15,
   "metadata": {},
   "outputs": [
    {
     "name": "stdout",
     "output_type": "stream",
     "text": [
      "The average of the given list : 46.75\n"
     ]
    }
   ],
   "source": [
    "list1 = [24,45,32,87,57,92,27,10]\n",
    "sum = 0\n",
    "for i in list1:\n",
    "    sum += i\n",
    "    avg = sum/len(list1)\n",
    "print('The average of the given list :',avg)"
   ]
  },
  {
   "cell_type": "markdown",
   "metadata": {},
   "source": [
    "Write a program to find the smallest element in an array using a while loop."
   ]
  },
  {
   "cell_type": "code",
   "execution_count": 23,
   "metadata": {},
   "outputs": [
    {
     "name": "stdout",
     "output_type": "stream",
     "text": [
      "3\n"
     ]
    }
   ],
   "source": [
    "arr = [23,34,65,12,78,98]\n",
    "leng = len(arr)\n",
    "i = 1\n",
    "min = arr[0]\n",
    "while i < leng:\n",
    "    if arr[i] < min:\n",
    "        min = arr[i]\n",
    "    i += 1\n",
    "print(min)"
   ]
  },
  {
   "cell_type": "markdown",
   "metadata": {},
   "source": [
    "Write a program to calculate the sum of digits of a number using a for loop."
   ]
  },
  {
   "cell_type": "code",
   "execution_count": 28,
   "metadata": {},
   "outputs": [
    {
     "name": "stdout",
     "output_type": "stream",
     "text": [
      "The sum of given digit is 21\n"
     ]
    }
   ],
   "source": [
    "num = int(input(\"Enter any number:\"))\n",
    "sum = 0\n",
    "for i in str(num):\n",
    "    sum += int(i)\n",
    "print('The sum of given digit is',sum)"
   ]
  },
  {
   "cell_type": "markdown",
   "metadata": {},
   "source": [
    "Write a program to check if a given list of years has a leap year using a while loop."
   ]
  },
  {
   "cell_type": "code",
   "execution_count": 36,
   "metadata": {},
   "outputs": [
    {
     "name": "stdout",
     "output_type": "stream",
     "text": [
      "The leap years in given list are\n",
      "2024\n",
      "2016\n",
      "2004\n",
      "2048\n"
     ]
    }
   ],
   "source": [
    "years = [2014, 2024,2023,2016, 2022, 2002, 2004, 2067, 2048,2091]\n",
    "i = 0\n",
    "print('The leap years in given list are')\n",
    "while i < len(years):\n",
    "    if years[i] % 4 == 0:\n",
    "        print(years[i])\n",
    "    i += 1"
   ]
  },
  {
   "cell_type": "markdown",
   "metadata": {},
   "source": [
    "Write a program to print the multiplication table of numbers from 1 to 5 using a for loop."
   ]
  },
  {
   "cell_type": "code",
   "execution_count": 40,
   "metadata": {},
   "outputs": [
    {
     "name": "stdout",
     "output_type": "stream",
     "text": [
      "\n",
      "The multiplication table of 1\n",
      "1 X 1 = 1\n",
      "1 X 2 = 2\n",
      "1 X 3 = 3\n",
      "1 X 4 = 4\n",
      "1 X 5 = 5\n",
      "1 X 6 = 6\n",
      "1 X 7 = 7\n",
      "1 X 8 = 8\n",
      "1 X 9 = 9\n",
      "1 X 10 = 10\n",
      "\n",
      "The multiplication table of 2\n",
      "2 X 1 = 2\n",
      "2 X 2 = 4\n",
      "2 X 3 = 6\n",
      "2 X 4 = 8\n",
      "2 X 5 = 10\n",
      "2 X 6 = 12\n",
      "2 X 7 = 14\n",
      "2 X 8 = 16\n",
      "2 X 9 = 18\n",
      "2 X 10 = 20\n",
      "\n",
      "The multiplication table of 3\n",
      "3 X 1 = 3\n",
      "3 X 2 = 6\n",
      "3 X 3 = 9\n",
      "3 X 4 = 12\n",
      "3 X 5 = 15\n",
      "3 X 6 = 18\n",
      "3 X 7 = 21\n",
      "3 X 8 = 24\n",
      "3 X 9 = 27\n",
      "3 X 10 = 30\n",
      "\n",
      "The multiplication table of 4\n",
      "4 X 1 = 4\n",
      "4 X 2 = 8\n",
      "4 X 3 = 12\n",
      "4 X 4 = 16\n",
      "4 X 5 = 20\n",
      "4 X 6 = 24\n",
      "4 X 7 = 28\n",
      "4 X 8 = 32\n",
      "4 X 9 = 36\n",
      "4 X 10 = 40\n",
      "\n",
      "The multiplication table of 5\n",
      "5 X 1 = 5\n",
      "5 X 2 = 10\n",
      "5 X 3 = 15\n",
      "5 X 4 = 20\n",
      "5 X 5 = 25\n",
      "5 X 6 = 30\n",
      "5 X 7 = 35\n",
      "5 X 8 = 40\n",
      "5 X 9 = 45\n",
      "5 X 10 = 50\n"
     ]
    }
   ],
   "source": [
    "for i in range(1,6):\n",
    "    print('\\nThe multiplication table of',i)\n",
    "    for j in range(1,11):\n",
    "        print(f'{i} X {j} =',i*j)"
   ]
  },
  {
   "cell_type": "markdown",
   "metadata": {},
   "source": [
    "Write a program to count the number of vowels in a given string using a for loop."
   ]
  },
  {
   "cell_type": "code",
   "execution_count": 47,
   "metadata": {},
   "outputs": [
    {
     "name": "stdout",
     "output_type": "stream",
     "text": [
      "The given string: komalGUPTA\n",
      "The number of vowel in given string is 4\n"
     ]
    }
   ],
   "source": [
    "string = input('Enter any string:')\n",
    "print('The given string:',string)\n",
    "vowel = ['a', 'e', 'i', 'o', 'u', 'A', 'E', 'I', 'O', 'U']\n",
    "count = 0\n",
    "for j in string:\n",
    "    if j in vowel:\n",
    "        count += 1\n",
    "print('The number of vowel in given string is', count)"
   ]
  },
  {
   "cell_type": "markdown",
   "metadata": {},
   "source": [
    "Write a program to find the largest and smallest elements in an array using a for loop."
   ]
  },
  {
   "cell_type": "code",
   "execution_count": 49,
   "metadata": {},
   "outputs": [
    {
     "name": "stdout",
     "output_type": "stream",
     "text": [
      "Largest element = 330 and smallest element = 10\n"
     ]
    }
   ],
   "source": [
    "arr = [23,34,65,12,78,73,210,330,10,98]\n",
    "lar = arr[0]\n",
    "smal = arr[0]\n",
    "for i in arr:\n",
    "    if  i > lar :\n",
    "        lar = i\n",
    "    if i < smal :\n",
    "        smal = i\n",
    "print(f'Largest element = {lar} and smallest element = {smal}')\n",
    "        \n"
   ]
  },
  {
   "cell_type": "markdown",
   "metadata": {},
   "source": [
    "Write a program to reverse the order of words in a sentence using a while loop."
   ]
  },
  {
   "cell_type": "code",
   "execution_count": 58,
   "metadata": {},
   "outputs": [
    {
     "name": "stdout",
     "output_type": "stream",
     "text": [
      "My name is Komal. I love to code. I love myself.\n",
      "['My', 'name', 'is', 'Komal.', 'I', 'love', 'to', 'code.', 'I', 'love', 'myself.'] 11\n",
      "myself. love I code. to love I Komal. is name My \n"
     ]
    }
   ],
   "source": [
    "sent = input(\"Write any sentence:\")\n",
    "print(sent)\n",
    "\n",
    "rev = ''\n",
    "word = sent.split()\n",
    "count = len(word)\n",
    "print(word, count)\n",
    "\n",
    "\n",
    "while count > 0:\n",
    "    rev += word[count - 1] + \" \" \n",
    "    count -= 1\n",
    "print(rev)"
   ]
  },
  {
   "cell_type": "code",
   "execution_count": null,
   "metadata": {},
   "outputs": [],
   "source": []
  },
  {
   "cell_type": "code",
   "execution_count": null,
   "metadata": {},
   "outputs": [],
   "source": []
  },
  {
   "cell_type": "code",
   "execution_count": null,
   "metadata": {},
   "outputs": [],
   "source": []
  }
 ],
 "metadata": {
  "kernelspec": {
   "display_name": "base",
   "language": "python",
   "name": "python3"
  },
  "language_info": {
   "codemirror_mode": {
    "name": "ipython",
    "version": 3
   },
   "file_extension": ".py",
   "mimetype": "text/x-python",
   "name": "python",
   "nbconvert_exporter": "python",
   "pygments_lexer": "ipython3",
   "version": "3.11.5"
  }
 },
 "nbformat": 4,
 "nbformat_minor": 2
}
