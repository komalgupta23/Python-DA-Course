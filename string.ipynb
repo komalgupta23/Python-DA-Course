{
 "cells": [
  {
   "cell_type": "markdown",
   "metadata": {},
   "source": [
    "String\n",
    "-  create\n",
    "- indexing and access\n",
    "- slicing\n",
    "- most useful methods "
   ]
  },
  {
   "cell_type": "code",
   "execution_count": 2,
   "metadata": {},
   "outputs": [],
   "source": [
    "a = 'komal' # single quotes\n",
    "b = \"krishna\"   # double quotes\n",
    "c = '''i am a girl'''   # multiline/triple quotes"
   ]
  },
  {
   "cell_type": "markdown",
   "metadata": {},
   "source": [
    "- sting is immutable\n",
    "- string is iterable\n",
    "- It is indexed\n",
    "- It is sliced"
   ]
  },
  {
   "cell_type": "code",
   "execution_count": 6,
   "metadata": {},
   "outputs": [
    {
     "name": "stdout",
     "output_type": "stream",
     "text": [
      "a\n",
      "i\n",
      "i\n"
     ]
    }
   ],
   "source": [
    "print(a[3])\n",
    "print(b[2])\n",
    "print(c[-3])"
   ]
  },
  {
   "cell_type": "code",
   "execution_count": 12,
   "metadata": {},
   "outputs": [
    {
     "name": "stdout",
     "output_type": "stream",
     "text": [
      "vijay\n",
      "deenanath\n",
      "chauhan\n",
      "vijay\n",
      "chauhan\n",
      "vijay deenanath chauhan\n",
      "vjydeaah\n",
      "vjydeaahcahn\n",
      "nahuahc htananeed yajiv\n"
     ]
    }
   ],
   "source": [
    "# slicing\n",
    "\n",
    "name = \"vijay deenanath chauhan\"\n",
    "print(name[0:5])\n",
    "print(name[6:15])\n",
    "print(name[-7:23])\n",
    "print(name[:5]) # start to 5 index\n",
    "print(name[-7:])    # -7 index to end\n",
    "print(name[:])  # start to end\n",
    "print(name[:15:2])  # start to 15 index with step 2\n",
    "print(name[::2])  # start to end with step 2\n",
    "print(name[::-1])  # reverse the string\n"
   ]
  },
  {
   "cell_type": "code",
   "execution_count": 13,
   "metadata": {},
   "outputs": [
    {
     "data": {
      "text/plain": [
       "'nahua'"
      ]
     },
     "execution_count": 13,
     "metadata": {},
     "output_type": "execute_result"
    }
   ],
   "source": [
    "name[:][::-1][:5]"
   ]
  },
  {
   "cell_type": "code",
   "execution_count": 17,
   "metadata": {},
   "outputs": [
    {
     "data": {
      "text/plain": [
       "'komal gupta'"
      ]
     },
     "execution_count": 17,
     "metadata": {},
     "output_type": "execute_result"
    }
   ],
   "source": [
    "# concatenation\n",
    "\n",
    "fname = 'komal'\n",
    "lname = 'gupta'\n",
    "fname + ' ' + lname"
   ]
  },
  {
   "cell_type": "code",
   "execution_count": 16,
   "metadata": {},
   "outputs": [
    {
     "data": {
      "text/plain": [
       "'🤩🤩🤩🤩🤩🤩🤩🤩🤩🤩'"
      ]
     },
     "execution_count": 16,
     "metadata": {},
     "output_type": "execute_result"
    }
   ],
   "source": [
    "'🤩' * 10 # repetition"
   ]
  },
  {
   "cell_type": "code",
   "execution_count": 15,
   "metadata": {},
   "outputs": [
    {
     "name": "stdout",
     "output_type": "stream",
     "text": [
      "*\n",
      "**\n",
      "***\n",
      "****\n",
      "*****\n",
      "******\n",
      "*******\n",
      "********\n",
      "*********\n",
      "**********\n"
     ]
    }
   ],
   "source": [
    "for i in range(1,11):\n",
    "    print('*' * i)"
   ]
  },
  {
   "cell_type": "code",
   "execution_count": null,
   "metadata": {},
   "outputs": [],
   "source": [
    "for i in range(5):\n",
    "    print(\"i \")"
   ]
  },
  {
   "cell_type": "markdown",
   "metadata": {},
   "source": [
    "string methods"
   ]
  },
  {
   "cell_type": "code",
   "execution_count": 18,
   "metadata": {},
   "outputs": [
    {
     "data": {
      "text/plain": [
       "'Komal'"
      ]
     },
     "execution_count": 18,
     "metadata": {},
     "output_type": "execute_result"
    }
   ],
   "source": [
    "a.capitalize()"
   ]
  },
  {
   "cell_type": "markdown",
   "metadata": {},
   "source": [
    "find and replace"
   ]
  },
  {
   "cell_type": "code",
   "execution_count": 23,
   "metadata": {},
   "outputs": [
    {
     "name": "stdout",
     "output_type": "stream",
     "text": [
      "7\n",
      "-1\n",
      "3\n",
      "I am a king of lucknow\n",
      "I am a queen of allahabad\n"
     ]
    }
   ],
   "source": [
    "# find is for pattern searching not for word searching\n",
    "sentence = 'I am a queen of lucknow'\n",
    "print(sentence.find('queen'))\n",
    "print(sentence.find('king'))    # -1 if not found\n",
    "print(sentence.find('m'))\n",
    "\n",
    "\n",
    "print(sentence.replace('queen', 'king'))\n",
    "print(sentence.replace('lucknow', 'allahabad'))\n",
    "sentence2 = sentence.replace('queen', 'king').replace('lucknow', 'allahabad')\n"
   ]
  },
  {
   "cell_type": "code",
   "execution_count": 24,
   "metadata": {},
   "outputs": [
    {
     "data": {
      "text/plain": [
       "'I am a quffn of lucknow'"
      ]
     },
     "execution_count": 24,
     "metadata": {},
     "output_type": "execute_result"
    }
   ],
   "source": [
    "sentence.replace('e', 'f')"
   ]
  },
  {
   "cell_type": "markdown",
   "metadata": {},
   "source": [
    "split and join"
   ]
  },
  {
   "cell_type": "code",
   "execution_count": 25,
   "metadata": {},
   "outputs": [
    {
     "data": {
      "text/plain": [
       "['I', 'am', 'a', 'queen', 'of', 'lucknow']"
      ]
     },
     "execution_count": 25,
     "metadata": {},
     "output_type": "execute_result"
    }
   ],
   "source": [
    "sentence.split()"
   ]
  },
  {
   "cell_type": "code",
   "execution_count": 27,
   "metadata": {},
   "outputs": [
    {
     "name": "stdout",
     "output_type": "stream",
     "text": [
      "['twinkle, twinkle, little star', 'how i wonder what you are', 'up above the world so high', 'like a diamond in the sky']\n",
      "['twinkle,', 'twinkle,', 'little', 'star', 'how', 'i', 'wonder', 'what', 'you', 'are', 'up', 'above', 'the', 'world', 'so', 'high', 'like', 'a', 'diamond', 'in', 'the', 'sky']\n",
      "['twinkle', ' twinkle', ' little star\\nhow i wonder what you are\\nup above the world so high\\nlike a diamond in the sky']\n"
     ]
    }
   ],
   "source": [
    "poem = '''twinkle, twinkle, little star\n",
    "how i wonder what you are\n",
    "up above the world so high\n",
    "like a diamond in the sky'''\n",
    "\n",
    "print(poem.splitlines())    # better than split('\\n')\n",
    "print(poem.split())\n",
    "print(poem.split(\",\"))"
   ]
  },
  {
   "cell_type": "code",
   "execution_count": 30,
   "metadata": {},
   "outputs": [
    {
     "name": "stdout",
     "output_type": "stream",
     "text": [
      "C: home user documents file.txt\n",
      "C:/home/user/documents/file.txt\n",
      "C:,home,user,documents,file.txt\n",
      "C:homeuserdocumentsfile.txt\n",
      "C:🧐home🧐user🧐documents🧐file.txt\n"
     ]
    }
   ],
   "source": [
    "path = ['C:', 'home', 'user', 'documents', 'file.txt']\n",
    "print(\" \".join(path))\n",
    "print(\"/\".join(path))\n",
    "print(\",\".join(path))\n",
    "print(\"\".join(path))\n",
    "print(\"🧐\".join(path))"
   ]
  },
  {
   "cell_type": "markdown",
   "metadata": {},
   "source": [
    "count,startswith and endswith"
   ]
  },
  {
   "cell_type": "code",
   "execution_count": 2,
   "metadata": {},
   "outputs": [
    {
     "data": {
      "text/plain": [
       "5"
      ]
     },
     "execution_count": 2,
     "metadata": {},
     "output_type": "execute_result"
    }
   ],
   "source": [
    "story = \"once upon a time. There was a king in a forest who's name is Lion😆.\"\n",
    "story.count('a')"
   ]
  },
  {
   "cell_type": "code",
   "execution_count": 7,
   "metadata": {},
   "outputs": [
    {
     "name": "stdout",
     "output_type": "stream",
     "text": [
      "['(Part-2) तीन दामाद और सास _ Hindi Kahani _ Moral Stories _ Story in Hindi _ Kahani _ Comedy Funny(720P_HD) (1).mp4', '(Part-2) तीन दामाद और सास _ Hindi Kahani _ Moral Stories _ Story in Hindi _ Kahani _ Comedy Funny(720P_HD).mp4', 'CARTOON.mp4', 'CARTOON.png', 'ChromeSetup.exe', 'desktop.ini', 'drive-download-20231205T150337Z-002.zip', 'filmora-idco_setup_full1901 (1).exe', 'filmora-idco_setup_full1901 (2).exe', 'filmora-idco_setup_full1901 (3).exe', 'filmora-idco_setup_full1901 (4).exe', 'filmora-idco_setup_full1901.exe', 'Git-2.43.0-64-bit.exe', 'GLP_installer_900223150_market (1).exe', 'GLP_installer_900223150_market.exe', 'Miniconda3-latest-Windows-x86_64.exe', 'mix_4m50s (audio-joiner.com).mp3', 'mix_5m43s (audio-joiner.com).mp3', 'Pictures - Shortcut.lnk', 'r0fiv17w.exe', 'Unconfirmed 387069.crdownload', 'Upload Process.mp4', 'VSCodeUserSetup-x64-1.85.1 (1).exe', 'VSCodeUserSetup-x64-1.85.1 (2).exe', 'VSCodeUserSetup-x64-1.85.1.exe']\n"
     ]
    }
   ],
   "source": [
    "import os\n",
    "\n",
    "content = os.listdir('C:/Users/LENOVO/Downloads')\n",
    "print(content)"
   ]
  },
  {
   "cell_type": "code",
   "execution_count": 14,
   "metadata": {},
   "outputs": [
    {
     "name": "stdout",
     "output_type": "stream",
     "text": [
      "mix_4m50s (audio-joiner.com).mp3\n",
      "mix_5m43s (audio-joiner.com).mp3\n"
     ]
    }
   ],
   "source": [
    "for item in content:\n",
    "    if item.endswith('.mp3'):\n",
    "        print(item)"
   ]
  },
  {
   "cell_type": "code",
   "execution_count": 18,
   "metadata": {},
   "outputs": [
    {
     "name": "stdout",
     "output_type": "stream",
     "text": [
      "CARTOON.mp4\n",
      "CARTOON.png\n",
      "ChromeSetup.exe\n"
     ]
    }
   ],
   "source": [
    "for item in content:\n",
    "    if item.startswith('C'):\n",
    "        print(item)"
   ]
  },
  {
   "cell_type": "code",
   "execution_count": 1,
   "metadata": {},
   "outputs": [
    {
     "name": "stdout",
     "output_type": "stream",
     "text": [
      "podium,podium\n"
     ]
    }
   ],
   "source": [
    "s = 'digipodium'\n",
    "s1 = s[4:len(s)]\n",
    "s2 = s[4:]\n",
    "print(s1,s2,sep = ',')"
   ]
  },
  {
   "cell_type": "code",
   "execution_count": 2,
   "metadata": {},
   "outputs": [
    {
     "name": "stdout",
     "output_type": "stream",
     "text": [
      "Excel\n",
      "cell\n",
      "lent\n"
     ]
    }
   ],
   "source": [
    "x = 'Excellent'\n",
    "print(x[:5])\n",
    "print(x[2:6])\n",
    "print(x[-4:])"
   ]
  },
  {
   "cell_type": "code",
   "execution_count": 5,
   "metadata": {},
   "outputs": [
    {
     "name": "stdout",
     "output_type": "stream",
     "text": [
      "A\n",
      "H\n",
      "き\n"
     ]
    }
   ],
   "source": [
    "# char() = convert integer to string\n",
    "\n",
    "x = chr(65)\n",
    "print(x)\n",
    "x = chr(72)\n",
    "print(x)\n",
    "x = chr(12365)\n",
    "print(x)"
   ]
  },
  {
   "cell_type": "code",
   "execution_count": 7,
   "metadata": {},
   "outputs": [
    {
     "name": "stdout",
     "output_type": "stream",
     "text": [
      "65\n",
      "97\n",
      "90\n"
     ]
    }
   ],
   "source": [
    "# ord() = convert a char to integer\n",
    "\n",
    "y = ord('A')\n",
    "print(y)\n",
    "y = ord('a')\n",
    "print(y)\n",
    "y = ord('Z')\n",
    "print(y)"
   ]
  },
  {
   "cell_type": "code",
   "execution_count": 8,
   "metadata": {},
   "outputs": [
    {
     "name": "stdout",
     "output_type": "stream",
     "text": [
      "7\n",
      "5\n",
      "4\n"
     ]
    }
   ],
   "source": [
    "# len() = returns length of string\n",
    "list = [23,45,65,34]\n",
    "print(len('amazing'))\n",
    "print(len('world'))\n",
    "print(len(list))"
   ]
  },
  {
   "cell_type": "code",
   "execution_count": 11,
   "metadata": {},
   "outputs": [
    {
     "name": "stdout",
     "output_type": "stream",
     "text": [
      "<class 'int'>\n",
      "<class 'str'>\n"
     ]
    }
   ],
   "source": [
    "# str() = converts items to string\n",
    "\n",
    "x = 24\n",
    "y = str(x)\n",
    "print(type(x))\n",
    "print(type(y))"
   ]
  },
  {
   "cell_type": "markdown",
   "metadata": {},
   "source": [
    "STRING PATTERNS"
   ]
  },
  {
   "cell_type": "code",
   "execution_count": 20,
   "metadata": {},
   "outputs": [
    {
     "name": "stdout",
     "output_type": "stream",
     "text": [
      "        L \n",
      "      L L \n",
      "    L L L \n",
      "  L L L L \n",
      "L L L L L \n"
     ]
    }
   ],
   "source": [
    "# RIGHT ALIGNMENT IN PATTERN\n",
    "\n",
    "#string function for right alignment of text and 15 is the area that it will create.\n",
    "\n",
    "for i in range(1,6):\n",
    "    print(('L ' * i).rjust(10))     "
   ]
  },
  {
   "cell_type": "code",
   "execution_count": 26,
   "metadata": {},
   "outputs": [
    {
     "name": "stdout",
     "output_type": "stream",
     "text": [
      "              *               \n",
      "            * * *             \n",
      "          * * * * *           \n",
      "        * * * * * * *         \n",
      "      * * * * * * * * *       \n",
      "    * * * * * * * * * * *     \n",
      "  * * * * * * * * * * * * *   \n"
     ]
    }
   ],
   "source": [
    "# CENTER ALIGNED TRIANGLE\n",
    "\n",
    "# string function for center alignment of the text and 30 is the area that it will create.\n",
    "\n",
    "for i in range(1,15,2):\n",
    "    print(('* ' * i).center(30))"
   ]
  },
  {
   "cell_type": "code",
   "execution_count": 55,
   "metadata": {},
   "outputs": [
    {
     "name": "stdout",
     "output_type": "stream",
     "text": [
      "                 *                 \n",
      "                 0                 \n",
      "                ***                \n",
      "                000                \n",
      "               *****               \n",
      "               00000               \n",
      "              *******              \n",
      "              0000000              \n",
      "             *********             \n",
      "             000000000             \n",
      "            ***********            \n",
      "            00000000000            \n",
      "           *************           \n",
      "           0000000000000           \n"
     ]
    }
   ],
   "source": [
    "# patern of * and 0\n",
    "\n",
    "for i in range(1,15,2):\n",
    "    print(('*' * i ).center(35))\n",
    "#for i in range(3,12,4):\n",
    "    print(('0' * i).center(35))\n",
    "    "
   ]
  },
  {
   "cell_type": "markdown",
   "metadata": {},
   "source": []
  },
  {
   "cell_type": "code",
   "execution_count": null,
   "metadata": {},
   "outputs": [],
   "source": []
  }
 ],
 "metadata": {
  "kernelspec": {
   "display_name": "base",
   "language": "python",
   "name": "python3"
  },
  "language_info": {
   "codemirror_mode": {
    "name": "ipython",
    "version": 3
   },
   "file_extension": ".py",
   "mimetype": "text/x-python",
   "name": "python",
   "nbconvert_exporter": "python",
   "pygments_lexer": "ipython3",
   "version": "3.11.5"
  }
 },
 "nbformat": 4,
 "nbformat_minor": 2
}
